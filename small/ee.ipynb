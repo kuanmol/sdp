{
 "cells": [
  {
   "cell_type": "code",
   "id": "dce70a585fa138e5",
   "metadata": {
    "ExecuteTime": {
     "end_time": "2025-04-23T17:26:47.496562Z",
     "start_time": "2025-04-23T17:26:38.504182Z"
    }
   },
   "source": [
    "import torch\n",
    "import torchvision\n",
    "from torchvision import datasets, transforms, models\n",
    "import torch.nn as nn\n",
    "import torch.optim as optim\n",
    "from PIL import ImageFile\n",
    "import os\n",
    "\n",
    "# Allow loading of truncated images\n",
    "ImageFile.LOAD_TRUNCATED_IMAGES = True\n",
    "\n",
    "# Define dataset paths\n",
    "train_dir = r\"/redd/train\"\n",
    "test_dir = r\"/redd/test\"\n",
    "# train_dir = \"/workspace/sdp/redd/train\"\n",
    "# test_dir = \"/workspace/sdp/redd/test\"\n"
   ],
   "outputs": [],
   "execution_count": 1
  },
  {
   "metadata": {
    "ExecuteTime": {
     "end_time": "2025-04-23T17:26:52.113267Z",
     "start_time": "2025-04-23T17:26:50.227089Z"
    }
   },
   "cell_type": "code",
   "source": [
    "\n",
    "import cv2\n",
    "import random\n",
    "\n",
    "\n",
    "def apply_random_degradation(image):\n",
    "    degrade_options = [\n",
    "        add_gaussian_blur,\n",
    "        add_gaussian_noise,\n",
    "        add_haze_effect,\n",
    "        adjust_contrast_randomly,\n",
    "        add_jpeg_artifacts\n",
    "    ]\n",
    "\n",
    "    num_degradations = random.randint(1, 2)\n",
    "    selected = random.sample(degrade_options, num_degradations)\n",
    "\n",
    "    for degrade in selected:\n",
    "        image = degrade(image)\n",
    "\n",
    "    return image\n",
    "\n",
    "\n",
    "def add_gaussian_blur(image):\n",
    "    \"\"\"Mild Gaussian blur\"\"\"\n",
    "    if random.random() < 0.3:\n",
    "        kernel_size = random.choice([3, 5])\n",
    "        return cv2.GaussianBlur(image, (kernel_size, kernel_size), 0)\n",
    "    return image\n",
    "\n",
    "\n",
    "def add_gaussian_noise(image):\n",
    "    \"\"\"Mild Gaussian noise\"\"\"\n",
    "    if random.random() < 0.3:\n",
    "        row, col, ch = image.shape\n",
    "        sigma = 0.01  # previously variable, now fixed low\n",
    "        gauss = np.random.normal(0, sigma, (row, col, ch))\n",
    "        noisy = image + gauss\n",
    "        return np.clip(noisy, 0, 1)\n",
    "    return image\n",
    "\n",
    "\n",
    "def add_haze_effect(image):\n",
    "    \"\"\"Light haze\"\"\"\n",
    "    if random.random() < 0.2:\n",
    "        haze_factor = random.uniform(0.85, 0.95)  # previously 0.3–0.7\n",
    "        haze_color = np.ones_like(image) * 0.9\n",
    "        hazy = image * haze_factor + haze_color * (1 - haze_factor)\n",
    "        return np.clip(hazy, 0, 1)\n",
    "    return image\n",
    "\n",
    "\n",
    "def adjust_contrast_randomly(image):\n",
    "    \"\"\"Subtle contrast adjustment\"\"\"\n",
    "    if random.random() < 0.3:\n",
    "        alpha = random.uniform(0.85, 1.15)\n",
    "        return np.clip(alpha * image, 0, 1)\n",
    "    return image\n",
    "\n",
    "\n",
    "def add_jpeg_artifacts(image):\n",
    "    \"\"\"Mild JPEG compression artifacts\"\"\"\n",
    "    if random.random() < 0.2:\n",
    "        quality = random.randint(50, 80)  # narrowed quality range\n",
    "        encode_param = [int(cv2.IMWRITE_JPEG_QUALITY), quality]\n",
    "        result, encimg = cv2.imencode('.jpg', (image * 255).astype(np.uint8), encode_param)\n",
    "        decimg = cv2.imdecode(encimg, 1)\n",
    "        return decimg.astype(np.float32) / 255.0\n",
    "    return image\n"
   ],
   "id": "14d8a25f72a3a653",
   "outputs": [],
   "execution_count": 2
  },
  {
   "metadata": {
    "ExecuteTime": {
     "end_time": "2025-04-23T17:26:52.788742Z",
     "start_time": "2025-04-23T17:26:52.778787Z"
    }
   },
   "cell_type": "code",
   "source": [
    "import cv2\n",
    "import random\n",
    "import numpy as np\n",
    "from PIL import Image\n",
    "\n",
    "def apply_random_degradation(img):\n",
    "    \"\"\"Wrapper to convert PIL image to np.array, apply degradation, and convert back to PIL.\"\"\"\n",
    "    img = np.array(img).astype(np.float32) / 255.0  # Normalize to [0,1]\n",
    "\n",
    "    degrade_options = [\n",
    "        add_gaussian_blur,\n",
    "        add_gaussian_noise,\n",
    "        add_haze_effect,\n",
    "        adjust_contrast_randomly,\n",
    "        add_jpeg_artifacts\n",
    "    ]\n",
    "\n",
    "    num_degradations = random.randint(1, 2)\n",
    "    selected = random.sample(degrade_options, num_degradations)\n",
    "\n",
    "    for degrade in selected:\n",
    "        img = degrade(img)\n",
    "\n",
    "    img = (img * 255).astype(np.uint8)  # Back to [0,255] for PIL\n",
    "    return Image.fromarray(img)\n",
    "\n",
    "\n",
    "def add_gaussian_blur(image):\n",
    "    if random.random() < 0.3:\n",
    "        kernel_size = random.choice([3, 5])\n",
    "        return cv2.GaussianBlur(image, (kernel_size, kernel_size), 0)\n",
    "    return image\n",
    "\n",
    "\n",
    "def add_gaussian_noise(image):\n",
    "    if random.random() < 0.3:\n",
    "        row, col, ch = image.shape\n",
    "        sigma = 0.01\n",
    "        gauss = np.random.normal(0, sigma, (row, col, ch))\n",
    "        noisy = image + gauss\n",
    "        return np.clip(noisy, 0, 1)\n",
    "    return image\n",
    "\n",
    "\n",
    "def add_haze_effect(image):\n",
    "    if random.random() < 0.2:\n",
    "        haze_factor = random.uniform(0.85, 0.95)\n",
    "        haze_color = np.ones_like(image) * 0.9\n",
    "        hazy = image * haze_factor + haze_color * (1 - haze_factor)\n",
    "        return np.clip(hazy, 0, 1)\n",
    "    return image\n",
    "\n",
    "\n",
    "def adjust_contrast_randomly(image):\n",
    "    if random.random() < 0.3:\n",
    "        alpha = random.uniform(0.85, 1.15)\n",
    "        return np.clip(alpha * image, 0, 1)\n",
    "    return image\n",
    "\n",
    "\n",
    "def add_jpeg_artifacts(image):\n",
    "    if random.random() < 0.2:\n",
    "        quality = random.randint(50, 80)\n",
    "        encode_param = [int(cv2.IMWRITE_JPEG_QUALITY), quality]\n",
    "        result, encimg = cv2.imencode('.jpg', (image * 255).astype(np.uint8), encode_param)\n",
    "        decimg = cv2.imdecode(encimg, 1)\n",
    "        return decimg.astype(np.float32) / 255.0\n",
    "    return image\n"
   ],
   "id": "e26eb61a6946297a",
   "outputs": [],
   "execution_count": 3
  },
  {
   "metadata": {
    "ExecuteTime": {
     "end_time": "2025-04-23T17:26:55.775590Z",
     "start_time": "2025-04-23T17:26:55.694038Z"
    }
   },
   "cell_type": "code",
   "source": [
    "from torchvision import transforms\n",
    "from torch.utils.data import DataLoader\n",
    "from torchvision.datasets import ImageFolder\n",
    "\n",
    "# Define your custom preprocessing function\n",
    "def apply_random_degradation(img):\n",
    "    # Example: convert to tensor and do some custom transformations\n",
    "    # You can modify this as needed\n",
    "    return img  # Assuming your function modifies the PIL image directly\n",
    "\n",
    "# Data augmentation and normalization for training\n",
    "train_transforms = transforms.Compose([\n",
    "    transforms.RandomRotation(40),\n",
    "    transforms.RandomResizedCrop(150, scale=(0.8, 1.0)),\n",
    "    transforms.RandomHorizontalFlip(),\n",
    "    transforms.ColorJitter(brightness=(0.5, 1.5)),\n",
    "    transforms.RandomAffine(degrees=0, shear=20, translate=(0.2, 0.2)),\n",
    "    transforms.Lambda(apply_random_degradation),\n",
    "    transforms.ToTensor(),\n",
    "    transforms.Normalize([0.5]*3, [0.5]*3),  # Normalize to [-1, 1] or adjust to your needs\n",
    "])\n",
    "\n",
    "# Only resizing and normalization for testing\n",
    "test_transforms = transforms.Compose([\n",
    "    transforms.Resize((150, 150)),\n",
    "    transforms.ToTensor(),\n",
    "    transforms.Normalize([0.5]*3, [0.5]*3),\n",
    "])\n",
    "\n",
    "# Load datasets\n",
    "train_dataset = ImageFolder(train_dir, transform=train_transforms)\n",
    "test_dataset = ImageFolder(test_dir, transform=test_transforms)\n",
    "\n",
    "# Create data loaders\n",
    "train_loader = DataLoader(train_dataset, batch_size=32, shuffle=True)\n",
    "test_loader = DataLoader(test_dataset, batch_size=32, shuffle=False)\n"
   ],
   "id": "b7693b4ca61e774c",
   "outputs": [],
   "execution_count": 4
  },
  {
   "metadata": {
    "ExecuteTime": {
     "end_time": "2025-04-23T17:27:21.212629Z",
     "start_time": "2025-04-23T17:26:57.263886Z"
    }
   },
   "cell_type": "code",
   "source": [
    "import torch.nn as nn\n",
    "import torch.nn.functional as F\n",
    "from torchvision import models\n",
    "\n",
    "class VGGTransferModel(nn.Module):\n",
    "    def __init__(self, num_classes=3):\n",
    "        super(VGGTransferModel, self).__init__()\n",
    "\n",
    "        # Load pre-trained VGG16 model\n",
    "        base_model = models.vgg16(pretrained=True)\n",
    "\n",
    "        # Freeze all VGG16 feature layers\n",
    "        for param in base_model.features.parameters():\n",
    "            param.requires_grad = False\n",
    "\n",
    "        self.features = base_model.features\n",
    "        self.avgpool = base_model.avgpool  # Adaptive avg pool to (7,7)\n",
    "\n",
    "        # Define custom classifier\n",
    "        self.classifier = nn.Sequential(\n",
    "            nn.AdaptiveAvgPool2d((1, 1)),\n",
    "            nn.Flatten(),\n",
    "            nn.BatchNorm1d(512),\n",
    "            nn.Linear(512, 256),\n",
    "            nn.SiLU(),  # swish equivalent in PyTorch\n",
    "            nn.Dropout(0.5),\n",
    "            nn.Linear(256, 128),\n",
    "            nn.SiLU(),\n",
    "            nn.Dropout(0.5),\n",
    "            nn.Linear(128, num_classes),\n",
    "            nn.Softmax(dim=1)\n",
    "        )\n",
    "\n",
    "    def forward(self, x):\n",
    "        x = self.features(x)\n",
    "        x = self.avgpool(x)\n",
    "        x = self.classifier(x)\n",
    "        return x\n",
    "\n",
    "# Instantiate model\n",
    "model = VGGTransferModel(num_classes=3)\n",
    "\n",
    "# Define loss function and optimizer\n",
    "criterion = nn.CrossEntropyLoss()\n",
    "optimizer = torch.optim.Adam(model.parameters(), lr=1e-4)\n",
    "\n",
    "# Print model summary (simple text)\n",
    "print(model)\n"
   ],
   "id": "39a83b7b026b07e",
   "outputs": [
    {
     "name": "stderr",
     "output_type": "stream",
     "text": [
      "D:\\sdp\\.venv\\Lib\\site-packages\\torchvision\\models\\_utils.py:208: UserWarning: The parameter 'pretrained' is deprecated since 0.13 and may be removed in the future, please use 'weights' instead.\n",
      "  warnings.warn(\n",
      "D:\\sdp\\.venv\\Lib\\site-packages\\torchvision\\models\\_utils.py:223: UserWarning: Arguments other than a weight enum or `None` for 'weights' are deprecated since 0.13 and may be removed in the future. The current behavior is equivalent to passing `weights=VGG16_Weights.IMAGENET1K_V1`. You can also use `weights=VGG16_Weights.DEFAULT` to get the most up-to-date weights.\n",
      "  warnings.warn(msg)\n",
      "Downloading: \"https://download.pytorch.org/models/vgg16-397923af.pth\" to C:\\Users\\anmol/.cache\\torch\\hub\\checkpoints\\vgg16-397923af.pth\n",
      "100.0%\n"
     ]
    },
    {
     "name": "stdout",
     "output_type": "stream",
     "text": [
      "VGGTransferModel(\n",
      "  (features): Sequential(\n",
      "    (0): Conv2d(3, 64, kernel_size=(3, 3), stride=(1, 1), padding=(1, 1))\n",
      "    (1): ReLU(inplace=True)\n",
      "    (2): Conv2d(64, 64, kernel_size=(3, 3), stride=(1, 1), padding=(1, 1))\n",
      "    (3): ReLU(inplace=True)\n",
      "    (4): MaxPool2d(kernel_size=2, stride=2, padding=0, dilation=1, ceil_mode=False)\n",
      "    (5): Conv2d(64, 128, kernel_size=(3, 3), stride=(1, 1), padding=(1, 1))\n",
      "    (6): ReLU(inplace=True)\n",
      "    (7): Conv2d(128, 128, kernel_size=(3, 3), stride=(1, 1), padding=(1, 1))\n",
      "    (8): ReLU(inplace=True)\n",
      "    (9): MaxPool2d(kernel_size=2, stride=2, padding=0, dilation=1, ceil_mode=False)\n",
      "    (10): Conv2d(128, 256, kernel_size=(3, 3), stride=(1, 1), padding=(1, 1))\n",
      "    (11): ReLU(inplace=True)\n",
      "    (12): Conv2d(256, 256, kernel_size=(3, 3), stride=(1, 1), padding=(1, 1))\n",
      "    (13): ReLU(inplace=True)\n",
      "    (14): Conv2d(256, 256, kernel_size=(3, 3), stride=(1, 1), padding=(1, 1))\n",
      "    (15): ReLU(inplace=True)\n",
      "    (16): MaxPool2d(kernel_size=2, stride=2, padding=0, dilation=1, ceil_mode=False)\n",
      "    (17): Conv2d(256, 512, kernel_size=(3, 3), stride=(1, 1), padding=(1, 1))\n",
      "    (18): ReLU(inplace=True)\n",
      "    (19): Conv2d(512, 512, kernel_size=(3, 3), stride=(1, 1), padding=(1, 1))\n",
      "    (20): ReLU(inplace=True)\n",
      "    (21): Conv2d(512, 512, kernel_size=(3, 3), stride=(1, 1), padding=(1, 1))\n",
      "    (22): ReLU(inplace=True)\n",
      "    (23): MaxPool2d(kernel_size=2, stride=2, padding=0, dilation=1, ceil_mode=False)\n",
      "    (24): Conv2d(512, 512, kernel_size=(3, 3), stride=(1, 1), padding=(1, 1))\n",
      "    (25): ReLU(inplace=True)\n",
      "    (26): Conv2d(512, 512, kernel_size=(3, 3), stride=(1, 1), padding=(1, 1))\n",
      "    (27): ReLU(inplace=True)\n",
      "    (28): Conv2d(512, 512, kernel_size=(3, 3), stride=(1, 1), padding=(1, 1))\n",
      "    (29): ReLU(inplace=True)\n",
      "    (30): MaxPool2d(kernel_size=2, stride=2, padding=0, dilation=1, ceil_mode=False)\n",
      "  )\n",
      "  (avgpool): AdaptiveAvgPool2d(output_size=(7, 7))\n",
      "  (classifier): Sequential(\n",
      "    (0): AdaptiveAvgPool2d(output_size=(1, 1))\n",
      "    (1): Flatten(start_dim=1, end_dim=-1)\n",
      "    (2): BatchNorm1d(512, eps=1e-05, momentum=0.1, affine=True, track_running_stats=True)\n",
      "    (3): Linear(in_features=512, out_features=256, bias=True)\n",
      "    (4): SiLU()\n",
      "    (5): Dropout(p=0.5, inplace=False)\n",
      "    (6): Linear(in_features=256, out_features=128, bias=True)\n",
      "    (7): SiLU()\n",
      "    (8): Dropout(p=0.5, inplace=False)\n",
      "    (9): Linear(in_features=128, out_features=3, bias=True)\n",
      "    (10): Softmax(dim=1)\n",
      "  )\n",
      ")\n"
     ]
    }
   ],
   "execution_count": 5
  },
  {
   "metadata": {
    "ExecuteTime": {
     "end_time": "2025-04-23T17:43:15.723976Z",
     "start_time": "2025-04-23T17:28:51.094069Z"
    }
   },
   "cell_type": "code",
   "source": [
    "import torch\n",
    "import pickle\n",
    "from torch.optim.lr_scheduler import ReduceLROnPlateau\n",
    "from tqdm import tqdm\n",
    "\n",
    "device = torch.device(\"cuda\" if torch.cuda.is_available() else \"cpu\")\n",
    "model.to(device)\n",
    "\n",
    "# Early stopping class\n",
    "class EarlyStopping:\n",
    "    def __init__(self, patience=3, min_delta=0, restore_best_weights=True):\n",
    "        self.patience = patience\n",
    "        self.min_delta = min_delta\n",
    "        self.restore_best_weights = restore_best_weights\n",
    "        self.counter = 0\n",
    "        self.best_loss = float('inf')\n",
    "        self.best_model_state = None\n",
    "\n",
    "    def __call__(self, val_loss, model):\n",
    "        if val_loss < self.best_loss - self.min_delta:\n",
    "            self.best_loss = val_loss\n",
    "            self.counter = 0\n",
    "            if self.restore_best_weights:\n",
    "                self.best_model_state = model.state_dict()\n",
    "        else:\n",
    "            self.counter += 1\n",
    "            if self.counter >= self.patience:\n",
    "                if self.restore_best_weights:\n",
    "                    model.load_state_dict(self.best_model_state)\n",
    "                return True\n",
    "        return False\n",
    "\n",
    "# Initialize scheduler and early stopping\n",
    "scheduler = ReduceLROnPlateau(optimizer, mode='min', factor=0.5, patience=2, min_lr=1e-6, verbose=True)\n",
    "early_stopper = EarlyStopping(patience=3, restore_best_weights=True)\n",
    "\n",
    "epochs = 50\n",
    "history = {'train_loss': [], 'val_loss': [], 'val_acc': []}\n",
    "\n",
    "for epoch in range(epochs):\n",
    "    model.train()\n",
    "    running_loss = 0.0\n",
    "\n",
    "    for images, labels in tqdm(train_loader, desc=f\"Epoch {epoch+1}/{epochs} - Training\"):\n",
    "        images, labels = images.to(device), labels.to(device)\n",
    "\n",
    "        optimizer.zero_grad()\n",
    "        outputs = model(images)\n",
    "        loss = criterion(outputs, labels)\n",
    "        loss.backward()\n",
    "        optimizer.step()\n",
    "        running_loss += loss.item() * images.size(0)\n",
    "\n",
    "    epoch_loss = running_loss / len(train_loader.dataset)\n",
    "    history['train_loss'].append(epoch_loss)\n",
    "\n",
    "    # Validation\n",
    "    model.eval()\n",
    "    val_loss = 0.0\n",
    "    correct = 0\n",
    "\n",
    "    with torch.no_grad():\n",
    "        for images, labels in test_loader:\n",
    "            images, labels = images.to(device), labels.to(device)\n",
    "            outputs = model(images)\n",
    "            loss = criterion(outputs, labels)\n",
    "            val_loss += loss.item() * images.size(0)\n",
    "\n",
    "            preds = torch.argmax(outputs, dim=1)\n",
    "            correct += (preds == labels).sum().item()\n",
    "\n",
    "    val_loss /= len(test_loader.dataset)\n",
    "    val_acc = correct / len(test_loader.dataset)\n",
    "    history['val_loss'].append(val_loss)\n",
    "    history['val_acc'].append(val_acc)\n",
    "\n",
    "    print(f\"Epoch {epoch+1}: Train Loss = {epoch_loss:.4f}, Val Loss = {val_loss:.4f}, Val Acc = {val_acc:.4f}\")\n",
    "\n",
    "    scheduler.step(val_loss)\n",
    "\n",
    "    if early_stopper(val_loss, model):\n",
    "        print(\"Early stopping triggered.\")\n",
    "        break\n",
    "\n",
    "# Save model\n",
    "torch.save(model.state_dict(), \"third_model_da.pth\")\n",
    "\n",
    "# Save training history\n",
    "with open(\"history3_da.pkl\", \"wb\") as f:\n",
    "    pickle.dump(history, f)\n",
    "\n",
    "print(\"Model and training history saved successfully!\")\n"
   ],
   "id": "26d19bd7d27f581a",
   "outputs": [
    {
     "name": "stderr",
     "output_type": "stream",
     "text": [
      "D:\\sdp\\.venv\\Lib\\site-packages\\torch\\optim\\lr_scheduler.py:62: UserWarning: The verbose parameter is deprecated. Please use get_last_lr() to access the learning rate.\n",
      "  warnings.warn(\n",
      "Epoch 1/50 - Training: 100%|██████████| 469/469 [02:21<00:00,  3.32it/s]\n"
     ]
    },
    {
     "name": "stdout",
     "output_type": "stream",
     "text": [
      "Epoch 1: Train Loss = 0.7537, Val Loss = 0.5856, Val Acc = 0.9687\n"
     ]
    },
    {
     "name": "stderr",
     "output_type": "stream",
     "text": [
      "Epoch 2/50 - Training: 100%|██████████| 469/469 [01:54<00:00,  4.11it/s]\n"
     ]
    },
    {
     "name": "stdout",
     "output_type": "stream",
     "text": [
      "Epoch 2: Train Loss = 0.6299, Val Loss = 0.5729, Val Acc = 0.9807\n"
     ]
    },
    {
     "name": "stderr",
     "output_type": "stream",
     "text": [
      "Epoch 3/50 - Training: 100%|██████████| 469/469 [02:18<00:00,  3.38it/s]\n"
     ]
    },
    {
     "name": "stdout",
     "output_type": "stream",
     "text": [
      "Epoch 3: Train Loss = 0.6193, Val Loss = 0.5735, Val Acc = 0.9787\n"
     ]
    },
    {
     "name": "stderr",
     "output_type": "stream",
     "text": [
      "Epoch 4/50 - Training: 100%|██████████| 469/469 [01:54<00:00,  4.10it/s]\n"
     ]
    },
    {
     "name": "stdout",
     "output_type": "stream",
     "text": [
      "Epoch 4: Train Loss = 0.6162, Val Loss = 0.5694, Val Acc = 0.9820\n"
     ]
    },
    {
     "name": "stderr",
     "output_type": "stream",
     "text": [
      "Epoch 5/50 - Training: 100%|██████████| 469/469 [01:54<00:00,  4.09it/s]\n"
     ]
    },
    {
     "name": "stdout",
     "output_type": "stream",
     "text": [
      "Epoch 5: Train Loss = 0.6121, Val Loss = 0.5684, Val Acc = 0.9827\n"
     ]
    },
    {
     "name": "stderr",
     "output_type": "stream",
     "text": [
      "Epoch 6/50 - Training: 100%|██████████| 469/469 [01:54<00:00,  4.08it/s]\n"
     ]
    },
    {
     "name": "stdout",
     "output_type": "stream",
     "text": [
      "Epoch 6: Train Loss = 0.6094, Val Loss = 0.5663, Val Acc = 0.9847\n"
     ]
    },
    {
     "name": "stderr",
     "output_type": "stream",
     "text": [
      "Epoch 7/50 - Training:   4%|▍         | 21/469 [00:05<01:52,  3.99it/s]\n"
     ]
    },
    {
     "ename": "KeyboardInterrupt",
     "evalue": "",
     "output_type": "error",
     "traceback": [
      "\u001B[31m---------------------------------------------------------------------------\u001B[39m",
      "\u001B[31mKeyboardInterrupt\u001B[39m                         Traceback (most recent call last)",
      "\u001B[36mCell\u001B[39m\u001B[36m \u001B[39m\u001B[32mIn[7]\u001B[39m\u001B[32m, line 44\u001B[39m\n\u001B[32m     41\u001B[39m model.train()\n\u001B[32m     42\u001B[39m running_loss = \u001B[32m0.0\u001B[39m\n\u001B[32m---> \u001B[39m\u001B[32m44\u001B[39m \u001B[43m\u001B[49m\u001B[38;5;28;43;01mfor\u001B[39;49;00m\u001B[43m \u001B[49m\u001B[43mimages\u001B[49m\u001B[43m,\u001B[49m\u001B[43m \u001B[49m\u001B[43mlabels\u001B[49m\u001B[43m \u001B[49m\u001B[38;5;129;43;01min\u001B[39;49;00m\u001B[43m \u001B[49m\u001B[43mtqdm\u001B[49m\u001B[43m(\u001B[49m\u001B[43mtrain_loader\u001B[49m\u001B[43m,\u001B[49m\u001B[43m \u001B[49m\u001B[43mdesc\u001B[49m\u001B[43m=\u001B[49m\u001B[33;43mf\u001B[39;49m\u001B[33;43m\"\u001B[39;49m\u001B[33;43mEpoch \u001B[39;49m\u001B[38;5;132;43;01m{\u001B[39;49;00m\u001B[43mepoch\u001B[49m\u001B[43m+\u001B[49m\u001B[32;43m1\u001B[39;49m\u001B[38;5;132;43;01m}\u001B[39;49;00m\u001B[33;43m/\u001B[39;49m\u001B[38;5;132;43;01m{\u001B[39;49;00m\u001B[43mepochs\u001B[49m\u001B[38;5;132;43;01m}\u001B[39;49;00m\u001B[33;43m - Training\u001B[39;49m\u001B[33;43m\"\u001B[39;49m\u001B[43m)\u001B[49m\u001B[43m:\u001B[49m\n\u001B[32m     45\u001B[39m \u001B[43m    \u001B[49m\u001B[43mimages\u001B[49m\u001B[43m,\u001B[49m\u001B[43m \u001B[49m\u001B[43mlabels\u001B[49m\u001B[43m \u001B[49m\u001B[43m=\u001B[49m\u001B[43m \u001B[49m\u001B[43mimages\u001B[49m\u001B[43m.\u001B[49m\u001B[43mto\u001B[49m\u001B[43m(\u001B[49m\u001B[43mdevice\u001B[49m\u001B[43m)\u001B[49m\u001B[43m,\u001B[49m\u001B[43m \u001B[49m\u001B[43mlabels\u001B[49m\u001B[43m.\u001B[49m\u001B[43mto\u001B[49m\u001B[43m(\u001B[49m\u001B[43mdevice\u001B[49m\u001B[43m)\u001B[49m\n\u001B[32m     47\u001B[39m \u001B[43m    \u001B[49m\u001B[43moptimizer\u001B[49m\u001B[43m.\u001B[49m\u001B[43mzero_grad\u001B[49m\u001B[43m(\u001B[49m\u001B[43m)\u001B[49m\n",
      "\u001B[36mFile \u001B[39m\u001B[32mD:\\sdp\\.venv\\Lib\\site-packages\\tqdm\\std.py:1181\u001B[39m, in \u001B[36mtqdm.__iter__\u001B[39m\u001B[34m(self)\u001B[39m\n\u001B[32m   1178\u001B[39m time = \u001B[38;5;28mself\u001B[39m._time\n\u001B[32m   1180\u001B[39m \u001B[38;5;28;01mtry\u001B[39;00m:\n\u001B[32m-> \u001B[39m\u001B[32m1181\u001B[39m \u001B[43m    \u001B[49m\u001B[38;5;28;43;01mfor\u001B[39;49;00m\u001B[43m \u001B[49m\u001B[43mobj\u001B[49m\u001B[43m \u001B[49m\u001B[38;5;129;43;01min\u001B[39;49;00m\u001B[43m \u001B[49m\u001B[43miterable\u001B[49m\u001B[43m:\u001B[49m\n\u001B[32m   1182\u001B[39m \u001B[43m        \u001B[49m\u001B[38;5;28;43;01myield\u001B[39;49;00m\u001B[43m \u001B[49m\u001B[43mobj\u001B[49m\n\u001B[32m   1183\u001B[39m \u001B[43m        \u001B[49m\u001B[38;5;66;43;03m# Update and possibly print the progressbar.\u001B[39;49;00m\n\u001B[32m   1184\u001B[39m \u001B[43m        \u001B[49m\u001B[38;5;66;43;03m# Note: does not call self.update(1) for speed optimisation.\u001B[39;49;00m\n",
      "\u001B[36mFile \u001B[39m\u001B[32mD:\\sdp\\.venv\\Lib\\site-packages\\torch\\utils\\data\\dataloader.py:708\u001B[39m, in \u001B[36m_BaseDataLoaderIter.__next__\u001B[39m\u001B[34m(self)\u001B[39m\n\u001B[32m    705\u001B[39m \u001B[38;5;28;01mif\u001B[39;00m \u001B[38;5;28mself\u001B[39m._sampler_iter \u001B[38;5;129;01mis\u001B[39;00m \u001B[38;5;28;01mNone\u001B[39;00m:\n\u001B[32m    706\u001B[39m     \u001B[38;5;66;03m# TODO(https://github.com/pytorch/pytorch/issues/76750)\u001B[39;00m\n\u001B[32m    707\u001B[39m     \u001B[38;5;28mself\u001B[39m._reset()  \u001B[38;5;66;03m# type: ignore[call-arg]\u001B[39;00m\n\u001B[32m--> \u001B[39m\u001B[32m708\u001B[39m data = \u001B[38;5;28;43mself\u001B[39;49m\u001B[43m.\u001B[49m\u001B[43m_next_data\u001B[49m\u001B[43m(\u001B[49m\u001B[43m)\u001B[49m\n\u001B[32m    709\u001B[39m \u001B[38;5;28mself\u001B[39m._num_yielded += \u001B[32m1\u001B[39m\n\u001B[32m    710\u001B[39m \u001B[38;5;28;01mif\u001B[39;00m (\n\u001B[32m    711\u001B[39m     \u001B[38;5;28mself\u001B[39m._dataset_kind == _DatasetKind.Iterable\n\u001B[32m    712\u001B[39m     \u001B[38;5;129;01mand\u001B[39;00m \u001B[38;5;28mself\u001B[39m._IterableDataset_len_called \u001B[38;5;129;01mis\u001B[39;00m \u001B[38;5;129;01mnot\u001B[39;00m \u001B[38;5;28;01mNone\u001B[39;00m\n\u001B[32m    713\u001B[39m     \u001B[38;5;129;01mand\u001B[39;00m \u001B[38;5;28mself\u001B[39m._num_yielded > \u001B[38;5;28mself\u001B[39m._IterableDataset_len_called\n\u001B[32m    714\u001B[39m ):\n",
      "\u001B[36mFile \u001B[39m\u001B[32mD:\\sdp\\.venv\\Lib\\site-packages\\torch\\utils\\data\\dataloader.py:764\u001B[39m, in \u001B[36m_SingleProcessDataLoaderIter._next_data\u001B[39m\u001B[34m(self)\u001B[39m\n\u001B[32m    762\u001B[39m \u001B[38;5;28;01mdef\u001B[39;00m\u001B[38;5;250m \u001B[39m\u001B[34m_next_data\u001B[39m(\u001B[38;5;28mself\u001B[39m):\n\u001B[32m    763\u001B[39m     index = \u001B[38;5;28mself\u001B[39m._next_index()  \u001B[38;5;66;03m# may raise StopIteration\u001B[39;00m\n\u001B[32m--> \u001B[39m\u001B[32m764\u001B[39m     data = \u001B[38;5;28;43mself\u001B[39;49m\u001B[43m.\u001B[49m\u001B[43m_dataset_fetcher\u001B[49m\u001B[43m.\u001B[49m\u001B[43mfetch\u001B[49m\u001B[43m(\u001B[49m\u001B[43mindex\u001B[49m\u001B[43m)\u001B[49m  \u001B[38;5;66;03m# may raise StopIteration\u001B[39;00m\n\u001B[32m    765\u001B[39m     \u001B[38;5;28;01mif\u001B[39;00m \u001B[38;5;28mself\u001B[39m._pin_memory:\n\u001B[32m    766\u001B[39m         data = _utils.pin_memory.pin_memory(data, \u001B[38;5;28mself\u001B[39m._pin_memory_device)\n",
      "\u001B[36mFile \u001B[39m\u001B[32mD:\\sdp\\.venv\\Lib\\site-packages\\torch\\utils\\data\\_utils\\fetch.py:52\u001B[39m, in \u001B[36m_MapDatasetFetcher.fetch\u001B[39m\u001B[34m(self, possibly_batched_index)\u001B[39m\n\u001B[32m     50\u001B[39m         data = \u001B[38;5;28mself\u001B[39m.dataset.__getitems__(possibly_batched_index)\n\u001B[32m     51\u001B[39m     \u001B[38;5;28;01melse\u001B[39;00m:\n\u001B[32m---> \u001B[39m\u001B[32m52\u001B[39m         data = [\u001B[38;5;28;43mself\u001B[39;49m\u001B[43m.\u001B[49m\u001B[43mdataset\u001B[49m\u001B[43m[\u001B[49m\u001B[43midx\u001B[49m\u001B[43m]\u001B[49m \u001B[38;5;28;01mfor\u001B[39;00m idx \u001B[38;5;129;01min\u001B[39;00m possibly_batched_index]\n\u001B[32m     53\u001B[39m \u001B[38;5;28;01melse\u001B[39;00m:\n\u001B[32m     54\u001B[39m     data = \u001B[38;5;28mself\u001B[39m.dataset[possibly_batched_index]\n",
      "\u001B[36mFile \u001B[39m\u001B[32mD:\\sdp\\.venv\\Lib\\site-packages\\torchvision\\datasets\\folder.py:245\u001B[39m, in \u001B[36mDatasetFolder.__getitem__\u001B[39m\u001B[34m(self, index)\u001B[39m\n\u001B[32m    237\u001B[39m \u001B[38;5;250m\u001B[39m\u001B[33;03m\"\"\"\u001B[39;00m\n\u001B[32m    238\u001B[39m \u001B[33;03mArgs:\u001B[39;00m\n\u001B[32m    239\u001B[39m \u001B[33;03m    index (int): Index\u001B[39;00m\n\u001B[32m   (...)\u001B[39m\u001B[32m    242\u001B[39m \u001B[33;03m    tuple: (sample, target) where target is class_index of the target class.\u001B[39;00m\n\u001B[32m    243\u001B[39m \u001B[33;03m\"\"\"\u001B[39;00m\n\u001B[32m    244\u001B[39m path, target = \u001B[38;5;28mself\u001B[39m.samples[index]\n\u001B[32m--> \u001B[39m\u001B[32m245\u001B[39m sample = \u001B[38;5;28;43mself\u001B[39;49m\u001B[43m.\u001B[49m\u001B[43mloader\u001B[49m\u001B[43m(\u001B[49m\u001B[43mpath\u001B[49m\u001B[43m)\u001B[49m\n\u001B[32m    246\u001B[39m \u001B[38;5;28;01mif\u001B[39;00m \u001B[38;5;28mself\u001B[39m.transform \u001B[38;5;129;01mis\u001B[39;00m \u001B[38;5;129;01mnot\u001B[39;00m \u001B[38;5;28;01mNone\u001B[39;00m:\n\u001B[32m    247\u001B[39m     sample = \u001B[38;5;28mself\u001B[39m.transform(sample)\n",
      "\u001B[36mFile \u001B[39m\u001B[32mD:\\sdp\\.venv\\Lib\\site-packages\\torchvision\\datasets\\folder.py:284\u001B[39m, in \u001B[36mdefault_loader\u001B[39m\u001B[34m(path)\u001B[39m\n\u001B[32m    282\u001B[39m     \u001B[38;5;28;01mreturn\u001B[39;00m accimage_loader(path)\n\u001B[32m    283\u001B[39m \u001B[38;5;28;01melse\u001B[39;00m:\n\u001B[32m--> \u001B[39m\u001B[32m284\u001B[39m     \u001B[38;5;28;01mreturn\u001B[39;00m \u001B[43mpil_loader\u001B[49m\u001B[43m(\u001B[49m\u001B[43mpath\u001B[49m\u001B[43m)\u001B[49m\n",
      "\u001B[36mFile \u001B[39m\u001B[32mD:\\sdp\\.venv\\Lib\\site-packages\\torchvision\\datasets\\folder.py:264\u001B[39m, in \u001B[36mpil_loader\u001B[39m\u001B[34m(path)\u001B[39m\n\u001B[32m    262\u001B[39m \u001B[38;5;28;01mwith\u001B[39;00m \u001B[38;5;28mopen\u001B[39m(path, \u001B[33m\"\u001B[39m\u001B[33mrb\u001B[39m\u001B[33m\"\u001B[39m) \u001B[38;5;28;01mas\u001B[39;00m f:\n\u001B[32m    263\u001B[39m     img = Image.open(f)\n\u001B[32m--> \u001B[39m\u001B[32m264\u001B[39m     \u001B[38;5;28;01mreturn\u001B[39;00m \u001B[43mimg\u001B[49m\u001B[43m.\u001B[49m\u001B[43mconvert\u001B[49m\u001B[43m(\u001B[49m\u001B[33;43m\"\u001B[39;49m\u001B[33;43mRGB\u001B[39;49m\u001B[33;43m\"\u001B[39;49m\u001B[43m)\u001B[49m\n",
      "\u001B[36mFile \u001B[39m\u001B[32mD:\\sdp\\.venv\\Lib\\site-packages\\PIL\\Image.py:984\u001B[39m, in \u001B[36mImage.convert\u001B[39m\u001B[34m(self, mode, matrix, dither, palette, colors)\u001B[39m\n\u001B[32m    981\u001B[39m \u001B[38;5;28;01mif\u001B[39;00m mode \u001B[38;5;129;01min\u001B[39;00m (\u001B[33m\"\u001B[39m\u001B[33mBGR;15\u001B[39m\u001B[33m\"\u001B[39m, \u001B[33m\"\u001B[39m\u001B[33mBGR;16\u001B[39m\u001B[33m\"\u001B[39m, \u001B[33m\"\u001B[39m\u001B[33mBGR;24\u001B[39m\u001B[33m\"\u001B[39m):\n\u001B[32m    982\u001B[39m     deprecate(mode, \u001B[32m12\u001B[39m)\n\u001B[32m--> \u001B[39m\u001B[32m984\u001B[39m \u001B[38;5;28;43mself\u001B[39;49m\u001B[43m.\u001B[49m\u001B[43mload\u001B[49m\u001B[43m(\u001B[49m\u001B[43m)\u001B[49m\n\u001B[32m    986\u001B[39m has_transparency = \u001B[33m\"\u001B[39m\u001B[33mtransparency\u001B[39m\u001B[33m\"\u001B[39m \u001B[38;5;129;01min\u001B[39;00m \u001B[38;5;28mself\u001B[39m.info\n\u001B[32m    987\u001B[39m \u001B[38;5;28;01mif\u001B[39;00m \u001B[38;5;129;01mnot\u001B[39;00m mode \u001B[38;5;129;01mand\u001B[39;00m \u001B[38;5;28mself\u001B[39m.mode == \u001B[33m\"\u001B[39m\u001B[33mP\u001B[39m\u001B[33m\"\u001B[39m:\n\u001B[32m    988\u001B[39m     \u001B[38;5;66;03m# determine default mode\u001B[39;00m\n",
      "\u001B[36mFile \u001B[39m\u001B[32mD:\\sdp\\.venv\\Lib\\site-packages\\PIL\\ImageFile.py:280\u001B[39m, in \u001B[36mImageFile.load\u001B[39m\u001B[34m(self)\u001B[39m\n\u001B[32m    278\u001B[39m \u001B[38;5;28;01mwhile\u001B[39;00m \u001B[38;5;28;01mTrue\u001B[39;00m:\n\u001B[32m    279\u001B[39m     \u001B[38;5;28;01mtry\u001B[39;00m:\n\u001B[32m--> \u001B[39m\u001B[32m280\u001B[39m         s = \u001B[43mread\u001B[49m\u001B[43m(\u001B[49m\u001B[38;5;28;43mself\u001B[39;49m\u001B[43m.\u001B[49m\u001B[43mdecodermaxblock\u001B[49m\u001B[43m)\u001B[49m\n\u001B[32m    281\u001B[39m     \u001B[38;5;28;01mexcept\u001B[39;00m (\u001B[38;5;167;01mIndexError\u001B[39;00m, struct.error) \u001B[38;5;28;01mas\u001B[39;00m e:\n\u001B[32m    282\u001B[39m         \u001B[38;5;66;03m# truncated png/gif\u001B[39;00m\n\u001B[32m    283\u001B[39m         \u001B[38;5;28;01mif\u001B[39;00m LOAD_TRUNCATED_IMAGES:\n",
      "\u001B[36mFile \u001B[39m\u001B[32mD:\\sdp\\.venv\\Lib\\site-packages\\PIL\\PngImagePlugin.py:989\u001B[39m, in \u001B[36mPngImageFile.load_read\u001B[39m\u001B[34m(self, read_bytes)\u001B[39m\n\u001B[32m    984\u001B[39m \u001B[38;5;28;01mwhile\u001B[39;00m \u001B[38;5;28mself\u001B[39m.__idat == \u001B[32m0\u001B[39m:\n\u001B[32m    985\u001B[39m     \u001B[38;5;66;03m# end of chunk, skip forward to next one\u001B[39;00m\n\u001B[32m    987\u001B[39m     \u001B[38;5;28mself\u001B[39m.fp.read(\u001B[32m4\u001B[39m)  \u001B[38;5;66;03m# CRC\u001B[39;00m\n\u001B[32m--> \u001B[39m\u001B[32m989\u001B[39m     cid, pos, length = \u001B[38;5;28;43mself\u001B[39;49m\u001B[43m.\u001B[49m\u001B[43mpng\u001B[49m\u001B[43m.\u001B[49m\u001B[43mread\u001B[49m\u001B[43m(\u001B[49m\u001B[43m)\u001B[49m\n\u001B[32m    991\u001B[39m     \u001B[38;5;28;01mif\u001B[39;00m cid \u001B[38;5;129;01mnot\u001B[39;00m \u001B[38;5;129;01min\u001B[39;00m [\u001B[33mb\u001B[39m\u001B[33m\"\u001B[39m\u001B[33mIDAT\u001B[39m\u001B[33m\"\u001B[39m, \u001B[33mb\u001B[39m\u001B[33m\"\u001B[39m\u001B[33mDDAT\u001B[39m\u001B[33m\"\u001B[39m, \u001B[33mb\u001B[39m\u001B[33m\"\u001B[39m\u001B[33mfdAT\u001B[39m\u001B[33m\"\u001B[39m]:\n\u001B[32m    992\u001B[39m         \u001B[38;5;28mself\u001B[39m.png.push(cid, pos, length)\n",
      "\u001B[36mFile \u001B[39m\u001B[32mD:\\sdp\\.venv\\Lib\\site-packages\\PIL\\PngImagePlugin.py:172\u001B[39m, in \u001B[36mChunkStream.read\u001B[39m\u001B[34m(self)\u001B[39m\n\u001B[32m    170\u001B[39m     s = \u001B[38;5;28mself\u001B[39m.fp.read(\u001B[32m8\u001B[39m)\n\u001B[32m    171\u001B[39m     cid = s[\u001B[32m4\u001B[39m:]\n\u001B[32m--> \u001B[39m\u001B[32m172\u001B[39m     pos = \u001B[38;5;28;43mself\u001B[39;49m\u001B[43m.\u001B[49m\u001B[43mfp\u001B[49m\u001B[43m.\u001B[49m\u001B[43mtell\u001B[49m\u001B[43m(\u001B[49m\u001B[43m)\u001B[49m\n\u001B[32m    173\u001B[39m     length = i32(s)\n\u001B[32m    175\u001B[39m \u001B[38;5;28;01mif\u001B[39;00m \u001B[38;5;129;01mnot\u001B[39;00m is_cid(cid):\n",
      "\u001B[31mKeyboardInterrupt\u001B[39m: "
     ]
    }
   ],
   "execution_count": 7
  },
  {
   "metadata": {},
   "cell_type": "code",
   "outputs": [],
   "execution_count": null,
   "source": "",
   "id": "86be8899e786e286"
  },
  {
   "metadata": {},
   "cell_type": "code",
   "outputs": [],
   "execution_count": null,
   "source": "",
   "id": "6bf886fa33a6a4d"
  },
  {
   "metadata": {},
   "cell_type": "code",
   "outputs": [],
   "execution_count": null,
   "source": "",
   "id": "976e4bb511958446"
  },
  {
   "metadata": {},
   "cell_type": "code",
   "outputs": [],
   "execution_count": null,
   "source": "",
   "id": "d26330592a68edee"
  },
  {
   "metadata": {},
   "cell_type": "code",
   "outputs": [],
   "execution_count": null,
   "source": "",
   "id": "688063358e986218"
  },
  {
   "metadata": {
    "collapsed": true
   },
   "cell_type": "code",
   "outputs": [],
   "execution_count": null,
   "source": "",
   "id": "initial_id"
  }
 ],
 "metadata": {
  "kernelspec": {
   "display_name": "Python 3",
   "language": "python",
   "name": "python3"
  },
  "language_info": {
   "codemirror_mode": {
    "name": "ipython",
    "version": 2
   },
   "file_extension": ".py",
   "mimetype": "text/x-python",
   "name": "python",
   "nbconvert_exporter": "python",
   "pygments_lexer": "ipython2",
   "version": "2.7.6"
  }
 },
 "nbformat": 4,
 "nbformat_minor": 5
}
