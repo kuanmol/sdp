{
 "cells": [
  {
   "cell_type": "code",
   "id": "15484ebe6ea7af3",
   "metadata": {
    "ExecuteTime": {
     "end_time": "2025-03-15T11:53:23.557175Z",
     "start_time": "2025-03-15T11:53:23.551024Z"
    }
   },
   "source": [
    "import os\n",
    "import random\n",
    "import shutil\n",
    "\n",
    "# Define dataset structure\n",
    "classes = [\"human\", \"cat\", \"dog\"]\n",
    "train_samples = 5000  # Per class\n",
    "test_samples = 1000    # Per class\n",
    "\n",
    "# Paths\n",
    "original_train_dir = r\"D:\\sdp\\ll-first\\dataset\\training\"\n",
    "original_test_dir = r\"D:\\sdp\\ll-first\\dataset\\test\"\n",
    "output_dir = r\"D:\\sdp\\redd\"  # Save reduced dataset in \"redd\""
   ],
   "outputs": [],
   "execution_count": 26
  },
  {
   "metadata": {
    "ExecuteTime": {
     "end_time": "2025-03-15T11:55:32.321497Z",
     "start_time": "2025-03-15T11:53:29.898625Z"
    }
   },
   "cell_type": "code",
   "source": [
    "\n",
    "# Function to get all images, including inside subfolders\n",
    "def get_all_images(folder):\n",
    "    image_list = []\n",
    "    for root, _, files in os.walk(folder):  # Recursively check subfolders\n",
    "        for file in files:\n",
    "            if file.endswith(('.png', '.jpg', '.jpeg')):\n",
    "                image_list.append(os.path.join(root, file))\n",
    "    return image_list\n",
    "\n",
    "# Function to reduce dataset\n",
    "def reduce_dataset(src_folder, dest_folder, num_samples):\n",
    "    os.makedirs(dest_folder, exist_ok=True)\n",
    "\n",
    "    for cls in classes:\n",
    "        src_cls_folder = os.path.join(src_folder, cls)\n",
    "        dest_cls_folder = os.path.join(dest_folder, cls)\n",
    "        os.makedirs(dest_cls_folder, exist_ok=True)\n",
    "\n",
    "        # Get all images, including from subfolders\n",
    "        images = get_all_images(src_cls_folder)\n",
    "\n",
    "        # Use min to avoid errors if not enough images\n",
    "        sample_size = min(len(images), num_samples)\n",
    "\n",
    "        if len(images) < num_samples:\n",
    "            print(f\"⚠ Warning: {cls} has only {len(images)} images, reducing sample size.\")\n",
    "\n",
    "        # Select random images\n",
    "        selected_images = random.sample(images, sample_size)\n",
    "\n",
    "        # Copy selected images to destination folder\n",
    "        for img in selected_images:\n",
    "            shutil.copy(img, os.path.join(dest_cls_folder, os.path.basename(img)))\n",
    "\n",
    "        print(f\"✔ {cls}: {sample_size} images copied to {dest_cls_folder}\")\n",
    "\n",
    "# Process training and testing datasets\n",
    "print(\"Processing training dataset...\")\n",
    "reduce_dataset(original_train_dir, os.path.join(output_dir, \"train\"), train_samples)\n",
    "\n",
    "print(\"Processing testing dataset...\")\n",
    "reduce_dataset(original_test_dir, os.path.join(output_dir, \"test\"), test_samples)\n",
    "\n",
    "print(\"\\n✅ Dataset reduction completed successfully!\")\n"
   ],
   "id": "de35a75aef80d69f",
   "outputs": [
    {
     "name": "stdout",
     "output_type": "stream",
     "text": [
      "Processing training dataset...\n",
      "✔ human: 5000 images copied to D:\\sdp\\redd\\train\\human\n",
      "✔ cat: 5000 images copied to D:\\sdp\\redd\\train\\cat\n",
      "✔ dog: 5000 images copied to D:\\sdp\\redd\\train\\dog\n",
      "Processing testing dataset...\n",
      "✔ human: 1000 images copied to D:\\sdp\\redd\\test\\human\n",
      "✔ cat: 1000 images copied to D:\\sdp\\redd\\test\\cat\n",
      "✔ dog: 1000 images copied to D:\\sdp\\redd\\test\\dog\n",
      "\n",
      "✅ Dataset reduction completed successfully!\n"
     ]
    }
   ],
   "execution_count": 27
  }
 ],
 "metadata": {
  "kernelspec": {
   "display_name": "Python 3",
   "language": "python",
   "name": "python3"
  },
  "language_info": {
   "codemirror_mode": {
    "name": "ipython",
    "version": 2
   },
   "file_extension": ".py",
   "mimetype": "text/x-python",
   "name": "python",
   "nbconvert_exporter": "python",
   "pygments_lexer": "ipython2",
   "version": "2.7.6"
  }
 },
 "nbformat": 4,
 "nbformat_minor": 5
}
