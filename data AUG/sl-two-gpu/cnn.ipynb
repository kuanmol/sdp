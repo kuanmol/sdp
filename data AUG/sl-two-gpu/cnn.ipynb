{
 "cells": [
  {
   "metadata": {},
   "cell_type": "code",
   "source": [
    "import numpy as np\n",
    "from keras_preprocessing.image import ImageDataGenerator\n",
    "from keras.api.layers import Dense, GlobalAveragePooling2D, Dropout, BatchNormalization\n",
    "from keras.api.models import Sequential\n",
    "from keras.api.applications import EfficientNetV2B0  # Better than VGG16\n",
    "from keras.api.optimizers import Adam\n",
    "from keras.api.callbacks import EarlyStopping, ReduceLROnPlateau\n",
    "from keras.api.regularizers import l2\n",
    "from keras.api.layers import RandomContrast, RandomBrightness"
   ],
   "id": "f37ce9f40d35be62",
   "outputs": [],
   "execution_count": null
  },
  {
   "metadata": {},
   "cell_type": "code",
   "source": [
    "\n",
    "# Data Augmentation (Stronger)\n",
    "train_datagen = ImageDataGenerator(\n",
    "    rescale=1. / 255,\n",
    "    # Geometric Augmentations\n",
    "    rotation_range=50,  # Increased from 40\n",
    "    width_shift_range=0.4,  # Increased from 0.2\n",
    "    height_shift_range=0.4,\n",
    "    shear_range=0.3,\n",
    "    zoom_range=[0.7, 1.4],  # Wider range (both zoom-in and out)\n",
    "    horizontal_flip=True,\n",
    "    vertical_flip=True,\n",
    "    # Color Augmentations\n",
    "    brightness_range=[0.6, 1.5],  # More extreme lighting changes\n",
    "    channel_shift_range=80.0,  # More intense color shifts (was 50)\n",
    "    # Advanced Augmentations\n",
    "    fill_mode='reflect',  # Better than 'nearest' for natural edges\n",
    "    featurewise_center=True,  # Normalize per dataset\n",
    "    featurewise_std_normalization=True,\n",
    "    preprocessing_function=lambda x: RandomContrast(0.3)(RandomBrightness(0.3)(x))\n",
    ")\n",
    "\n",
    "test_datagen = ImageDataGenerator(rescale=1. / 255)\n",
    "\n",
    "# Load Data\n",
    "train_dir = r\"/redd/train\"\n",
    "test_dir = r\"/redd/test\"\n",
    "\n",
    "training_set = train_datagen.flow_from_directory(\n",
    "    train_dir,\n",
    "    target_size=(150, 150),\n",
    "    batch_size=32,\n",
    "    class_mode='categorical'\n",
    ")\n",
    "\n",
    "test_set = test_datagen.flow_from_directory(\n",
    "    test_dir,\n",
    "    target_size=(150, 150),\n",
    "    batch_size=32,\n",
    "    class_mode='categorical',\n",
    ")"
   ],
   "id": "5ea2c7493604052e",
   "outputs": [],
   "execution_count": null
  },
  {
   "metadata": {},
   "cell_type": "code",
   "source": [
    "# Load EfficientNetV2 (Modern Alternative to VGG16)\n",
    "base_model = EfficientNetV2B0(\n",
    "    weights='imagenet',\n",
    "    include_top=False,\n",
    "    input_shape=(150, 150, 3)\n",
    ")\n",
    "base_model.trainable = False  # Freeze initially\n",
    "\n",
    "# Improved Model Architecture\n",
    "model = Sequential([\n",
    "    base_model,\n",
    "    GlobalAveragePooling2D(),\n",
    "    BatchNormalization(),\n",
    "    Dense(256, activation='swish', kernel_regularizer=l2(0.01)),\n",
    "    Dropout(0.5),\n",
    "    Dense(128, activation='swish', kernel_regularizer=l2(0.01)),\n",
    "    Dropout(0.5),\n",
    "    Dense(3, activation='softmax')\n",
    "])\n",
    "\n",
    "# Optimizer with LR Scheduling\n",
    "optimizer = Adam(learning_rate=1e-4)\n",
    "model.compile(optimizer=optimizer, loss='categorical_crossentropy', metrics=['accuracy'])"
   ],
   "id": "29be1a30e36c67b0",
   "outputs": [],
   "execution_count": null
  },
  {
   "metadata": {},
   "cell_type": "code",
   "source": [
    "import pickle\n",
    "early_stop = EarlyStopping(monitor='val_loss', patience=5, restore_best_weights=True)\n",
    "reduce_lr = ReduceLROnPlateau(monitor='val_loss', factor=0.2, patience=2, min_lr=1e-6)\n",
    "\n",
    "# Initial Training (Frozen Base)\n",
    "history = model.fit(\n",
    "    training_set,\n",
    "    validation_data=test_set,\n",
    "    epochs=5,\n",
    "    callbacks=[early_stop, reduce_lr],\n",
    ")\n",
    "model.save(\"my_model.h5\")\n",
    "with open(\"history.pkl\", \"wb\") as f:\n",
    "    pickle.dump(history.history, f)\n",
    "\n",
    "print(\"Model and training history saved successfully!\")"
   ],
   "id": "36566ae7c2a93c5d",
   "outputs": [],
   "execution_count": null
  },
  {
   "metadata": {},
   "cell_type": "code",
   "source": [
    "\n",
    "# Fine-Tuning (Unfreeze Top Layers)\n",
    "base_model.trainable = True\n",
    "for layer in base_model.layers[:-15]:  # Unfreeze last 15 layers\n",
    "    layer.trainable = False\n",
    "\n",
    "model.compile(\n",
    "    optimizer=Adam(learning_rate=1e-5),  # Lower LR for fine-tuning\n",
    "    loss='categorical_crossentropy',\n",
    "    metrics=['accuracy']\n",
    ")"
   ],
   "id": "78ca26b85b292ab7",
   "outputs": [],
   "execution_count": null
  },
  {
   "metadata": {},
   "cell_type": "code",
   "source": [
    "\n",
    "history_fine = model.fit(\n",
    "    training_set,\n",
    "    validation_data=test_set,\n",
    "    epochs=5,\n",
    "    callbacks=[early_stop, reduce_lr],\n",
    ")"
   ],
   "id": "a66b35cd59a60cfe",
   "outputs": [],
   "execution_count": null
  },
  {
   "metadata": {},
   "cell_type": "code",
   "source": "",
   "id": "5cf6bea8ac0653d",
   "outputs": [],
   "execution_count": null
  }
 ],
 "metadata": {
  "kernelspec": {
   "display_name": "Python 3 (ipykernel)",
   "language": "python",
   "name": "python3"
  },
  "language_info": {
   "codemirror_mode": {
    "name": "ipython",
    "version": 3
   },
   "file_extension": ".py",
   "mimetype": "text/x-python",
   "name": "python",
   "nbconvert_exporter": "python",
   "pygments_lexer": "ipython3",
   "version": "3.11.0rc1"
  }
 },
 "nbformat": 4,
 "nbformat_minor": 5
}
