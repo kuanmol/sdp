{
 "cells": [
  {
   "cell_type": "code",
   "id": "5419ac809f76a52e",
   "metadata": {
    "ExecuteTime": {
     "end_time": "2025-04-18T05:44:46.521436Z",
     "start_time": "2025-04-18T05:44:46.517429Z"
    }
   },
   "source": [
    "import numpy as np\n",
    "from keras_preprocessing import image\n",
    "from keras_preprocessing.image import ImageDataGenerator\n",
    "from keras.api.layers import Dense, GlobalAveragePooling2D, Dropout\n",
    "from keras.api.models import Sequential\n",
    "from keras.api.applications import VGG16\n",
    "from keras.api.optimizers import Adam\n",
    "from PIL import ImageFile\n",
    "\n",
    "ImageFile.LOAD_TRUNCATED_IMAGES = True\n",
    "\n",
    "# Define new dataset path\n",
    "train_dir = r\"D:\\sdp\\redd\\train\"\n",
    "test_dir = r\"D:\\sdp\\redd\\test\""
   ],
   "outputs": [],
   "execution_count": 3
  },
  {
   "cell_type": "code",
   "id": "f75ca3e2ffcd7255",
   "metadata": {
    "ExecuteTime": {
     "end_time": "2025-04-18T05:44:47.601260Z",
     "start_time": "2025-04-18T05:44:47.351172Z"
    }
   },
   "source": [
    "train_datagen = ImageDataGenerator()\n",
    "test_datagen = ImageDataGenerator(rescale=1. / 255)\n",
    "\n",
    "training_set = train_datagen.flow_from_directory(\n",
    "    train_dir,\n",
    "    target_size=(150, 150),\n",
    "    batch_size=32,\n",
    "    class_mode='categorical'\n",
    ")\n",
    "\n",
    "test_set = test_datagen.flow_from_directory(\n",
    "    test_dir,\n",
    "    target_size=(150, 150),\n",
    "    batch_size=32,\n",
    "    class_mode='categorical'\n",
    ")"
   ],
   "outputs": [
    {
     "name": "stdout",
     "output_type": "stream",
     "text": [
      "Found 15000 images belonging to 3 classes.\n",
      "Found 3000 images belonging to 3 classes.\n"
     ]
    }
   ],
   "execution_count": 4
  },
  {
   "cell_type": "code",
   "execution_count": 4,
   "id": "3b0c15af43e1edee",
   "metadata": {
    "ExecuteTime": {
     "end_time": "2025-04-04T16:38:08.553677Z",
     "start_time": "2025-04-04T16:38:08.146340Z"
    }
   },
   "outputs": [
    {
     "data": {
      "text/html": [
       "<pre style=\"white-space:pre;overflow-x:auto;line-height:normal;font-family:Menlo,'DejaVu Sans Mono',consolas,'Courier New',monospace\"><span style=\"font-weight: bold\">Model: \"sequential\"</span>\n",
       "</pre>\n"
      ],
      "text/plain": [
       "\u001B[1mModel: \"sequential\"\u001B[0m\n"
      ]
     },
     "metadata": {},
     "output_type": "display_data"
    },
    {
     "data": {
      "text/html": [
       "<pre style=\"white-space:pre;overflow-x:auto;line-height:normal;font-family:Menlo,'DejaVu Sans Mono',consolas,'Courier New',monospace\">┏━━━━━━━━━━━━━━━━━━━━━━━━━━━━━━━━━┳━━━━━━━━━━━━━━━━━━━━━━━━┳━━━━━━━━━━━━━━━┓\n",
       "┃<span style=\"font-weight: bold\"> Layer (type)                    </span>┃<span style=\"font-weight: bold\"> Output Shape           </span>┃<span style=\"font-weight: bold\">       Param # </span>┃\n",
       "┡━━━━━━━━━━━━━━━━━━━━━━━━━━━━━━━━━╇━━━━━━━━━━━━━━━━━━━━━━━━╇━━━━━━━━━━━━━━━┩\n",
       "│ vgg16 (<span style=\"color: #0087ff; text-decoration-color: #0087ff\">Functional</span>)              │ (<span style=\"color: #00d7ff; text-decoration-color: #00d7ff\">None</span>, <span style=\"color: #00af00; text-decoration-color: #00af00\">4</span>, <span style=\"color: #00af00; text-decoration-color: #00af00\">4</span>, <span style=\"color: #00af00; text-decoration-color: #00af00\">512</span>)      │    <span style=\"color: #00af00; text-decoration-color: #00af00\">14,714,688</span> │\n",
       "├─────────────────────────────────┼────────────────────────┼───────────────┤\n",
       "│ global_average_pooling2d        │ (<span style=\"color: #00d7ff; text-decoration-color: #00d7ff\">None</span>, <span style=\"color: #00af00; text-decoration-color: #00af00\">512</span>)            │             <span style=\"color: #00af00; text-decoration-color: #00af00\">0</span> │\n",
       "│ (<span style=\"color: #0087ff; text-decoration-color: #0087ff\">GlobalAveragePooling2D</span>)        │                        │               │\n",
       "├─────────────────────────────────┼────────────────────────┼───────────────┤\n",
       "│ dense (<span style=\"color: #0087ff; text-decoration-color: #0087ff\">Dense</span>)                   │ (<span style=\"color: #00d7ff; text-decoration-color: #00d7ff\">None</span>, <span style=\"color: #00af00; text-decoration-color: #00af00\">256</span>)            │       <span style=\"color: #00af00; text-decoration-color: #00af00\">131,328</span> │\n",
       "├─────────────────────────────────┼────────────────────────┼───────────────┤\n",
       "│ dropout (<span style=\"color: #0087ff; text-decoration-color: #0087ff\">Dropout</span>)               │ (<span style=\"color: #00d7ff; text-decoration-color: #00d7ff\">None</span>, <span style=\"color: #00af00; text-decoration-color: #00af00\">256</span>)            │             <span style=\"color: #00af00; text-decoration-color: #00af00\">0</span> │\n",
       "├─────────────────────────────────┼────────────────────────┼───────────────┤\n",
       "│ dense_1 (<span style=\"color: #0087ff; text-decoration-color: #0087ff\">Dense</span>)                 │ (<span style=\"color: #00d7ff; text-decoration-color: #00d7ff\">None</span>, <span style=\"color: #00af00; text-decoration-color: #00af00\">128</span>)            │        <span style=\"color: #00af00; text-decoration-color: #00af00\">32,896</span> │\n",
       "├─────────────────────────────────┼────────────────────────┼───────────────┤\n",
       "│ dropout_1 (<span style=\"color: #0087ff; text-decoration-color: #0087ff\">Dropout</span>)             │ (<span style=\"color: #00d7ff; text-decoration-color: #00d7ff\">None</span>, <span style=\"color: #00af00; text-decoration-color: #00af00\">128</span>)            │             <span style=\"color: #00af00; text-decoration-color: #00af00\">0</span> │\n",
       "├─────────────────────────────────┼────────────────────────┼───────────────┤\n",
       "│ dense_2 (<span style=\"color: #0087ff; text-decoration-color: #0087ff\">Dense</span>)                 │ (<span style=\"color: #00d7ff; text-decoration-color: #00d7ff\">None</span>, <span style=\"color: #00af00; text-decoration-color: #00af00\">3</span>)              │           <span style=\"color: #00af00; text-decoration-color: #00af00\">387</span> │\n",
       "└─────────────────────────────────┴────────────────────────┴───────────────┘\n",
       "</pre>\n"
      ],
      "text/plain": [
       "┏━━━━━━━━━━━━━━━━━━━━━━━━━━━━━━━━━┳━━━━━━━━━━━━━━━━━━━━━━━━┳━━━━━━━━━━━━━━━┓\n",
       "┃\u001B[1m \u001B[0m\u001B[1mLayer (type)                   \u001B[0m\u001B[1m \u001B[0m┃\u001B[1m \u001B[0m\u001B[1mOutput Shape          \u001B[0m\u001B[1m \u001B[0m┃\u001B[1m \u001B[0m\u001B[1m      Param #\u001B[0m\u001B[1m \u001B[0m┃\n",
       "┡━━━━━━━━━━━━━━━━━━━━━━━━━━━━━━━━━╇━━━━━━━━━━━━━━━━━━━━━━━━╇━━━━━━━━━━━━━━━┩\n",
       "│ vgg16 (\u001B[38;5;33mFunctional\u001B[0m)              │ (\u001B[38;5;45mNone\u001B[0m, \u001B[38;5;34m4\u001B[0m, \u001B[38;5;34m4\u001B[0m, \u001B[38;5;34m512\u001B[0m)      │    \u001B[38;5;34m14,714,688\u001B[0m │\n",
       "├─────────────────────────────────┼────────────────────────┼───────────────┤\n",
       "│ global_average_pooling2d        │ (\u001B[38;5;45mNone\u001B[0m, \u001B[38;5;34m512\u001B[0m)            │             \u001B[38;5;34m0\u001B[0m │\n",
       "│ (\u001B[38;5;33mGlobalAveragePooling2D\u001B[0m)        │                        │               │\n",
       "├─────────────────────────────────┼────────────────────────┼───────────────┤\n",
       "│ dense (\u001B[38;5;33mDense\u001B[0m)                   │ (\u001B[38;5;45mNone\u001B[0m, \u001B[38;5;34m256\u001B[0m)            │       \u001B[38;5;34m131,328\u001B[0m │\n",
       "├─────────────────────────────────┼────────────────────────┼───────────────┤\n",
       "│ dropout (\u001B[38;5;33mDropout\u001B[0m)               │ (\u001B[38;5;45mNone\u001B[0m, \u001B[38;5;34m256\u001B[0m)            │             \u001B[38;5;34m0\u001B[0m │\n",
       "├─────────────────────────────────┼────────────────────────┼───────────────┤\n",
       "│ dense_1 (\u001B[38;5;33mDense\u001B[0m)                 │ (\u001B[38;5;45mNone\u001B[0m, \u001B[38;5;34m128\u001B[0m)            │        \u001B[38;5;34m32,896\u001B[0m │\n",
       "├─────────────────────────────────┼────────────────────────┼───────────────┤\n",
       "│ dropout_1 (\u001B[38;5;33mDropout\u001B[0m)             │ (\u001B[38;5;45mNone\u001B[0m, \u001B[38;5;34m128\u001B[0m)            │             \u001B[38;5;34m0\u001B[0m │\n",
       "├─────────────────────────────────┼────────────────────────┼───────────────┤\n",
       "│ dense_2 (\u001B[38;5;33mDense\u001B[0m)                 │ (\u001B[38;5;45mNone\u001B[0m, \u001B[38;5;34m3\u001B[0m)              │           \u001B[38;5;34m387\u001B[0m │\n",
       "└─────────────────────────────────┴────────────────────────┴───────────────┘\n"
      ]
     },
     "metadata": {},
     "output_type": "display_data"
    },
    {
     "data": {
      "text/html": [
       "<pre style=\"white-space:pre;overflow-x:auto;line-height:normal;font-family:Menlo,'DejaVu Sans Mono',consolas,'Courier New',monospace\"><span style=\"font-weight: bold\"> Total params: </span><span style=\"color: #00af00; text-decoration-color: #00af00\">14,879,299</span> (56.76 MB)\n",
       "</pre>\n"
      ],
      "text/plain": [
       "\u001B[1m Total params: \u001B[0m\u001B[38;5;34m14,879,299\u001B[0m (56.76 MB)\n"
      ]
     },
     "metadata": {},
     "output_type": "display_data"
    },
    {
     "data": {
      "text/html": [
       "<pre style=\"white-space:pre;overflow-x:auto;line-height:normal;font-family:Menlo,'DejaVu Sans Mono',consolas,'Courier New',monospace\"><span style=\"font-weight: bold\"> Trainable params: </span><span style=\"color: #00af00; text-decoration-color: #00af00\">164,611</span> (643.01 KB)\n",
       "</pre>\n"
      ],
      "text/plain": [
       "\u001B[1m Trainable params: \u001B[0m\u001B[38;5;34m164,611\u001B[0m (643.01 KB)\n"
      ]
     },
     "metadata": {},
     "output_type": "display_data"
    },
    {
     "data": {
      "text/html": [
       "<pre style=\"white-space:pre;overflow-x:auto;line-height:normal;font-family:Menlo,'DejaVu Sans Mono',consolas,'Courier New',monospace\"><span style=\"font-weight: bold\"> Non-trainable params: </span><span style=\"color: #00af00; text-decoration-color: #00af00\">14,714,688</span> (56.13 MB)\n",
       "</pre>\n"
      ],
      "text/plain": [
       "\u001B[1m Non-trainable params: \u001B[0m\u001B[38;5;34m14,714,688\u001B[0m (56.13 MB)\n"
      ]
     },
     "metadata": {},
     "output_type": "display_data"
    }
   ],
   "source": [
    "# Load Pretrained VGG16 Model\n",
    "base_model = VGG16(weights='imagenet', include_top=False, input_shape=(150, 150, 3))\n",
    "base_model.trainable = False  # Freeze the base model\n",
    "\n",
    "# Define Model\n",
    "model = Sequential([\n",
    "    base_model,\n",
    "    GlobalAveragePooling2D(),\n",
    "    Dense(256, activation='relu'),\n",
    "    Dropout(0.3),\n",
    "    Dense(128, activation='relu'),\n",
    "    Dropout(0.3),\n",
    "    Dense(3, activation='softmax')\n",
    "])\n",
    "\n",
    "# Compile Model\n",
    "model.compile(\n",
    "    optimizer=Adam(learning_rate=0.0001),\n",
    "    loss='categorical_crossentropy',\n",
    "    metrics=['accuracy']\n",
    ")\n",
    "model.summary()"
   ]
  },
  {
   "cell_type": "code",
   "execution_count": 5,
   "id": "966194f8dabb29db",
   "metadata": {
    "ExecuteTime": {
     "end_time": "2025-04-04T16:45:45.793639Z",
     "start_time": "2025-04-04T16:38:23.651763Z"
    }
   },
   "outputs": [
    {
     "name": "stdout",
     "output_type": "stream",
     "text": [
      "Epoch 1/3\n"
     ]
    },
    {
     "name": "stderr",
     "output_type": "stream",
     "text": [
      "D:\\sdp\\.venv\\Lib\\site-packages\\keras\\src\\trainers\\data_adapters\\py_dataset_adapter.py:121: UserWarning: Your `PyDataset` class should call `super().__init__(**kwargs)` in its constructor. `**kwargs` can include `workers`, `use_multiprocessing`, `max_queue_size`. Do not pass these arguments to `fit()`, as they will be ignored.\n",
      "  self._warn_if_super_not_called()\n"
     ]
    },
    {
     "name": "stdout",
     "output_type": "stream",
     "text": [
      "\u001B[1m469/469\u001B[0m \u001B[32m━━━━━━━━━━━━━━━━━━━━\u001B[0m\u001B[37m\u001B[0m \u001B[1m463s\u001B[0m 985ms/step - accuracy: 0.7185 - loss: 2.6989 - val_accuracy: 0.4460 - val_loss: 1.0207\n",
      "Epoch 2/3\n",
      "\u001B[1m469/469\u001B[0m \u001B[32m━━━━━━━━━━━━━━━━━━━━\u001B[0m\u001B[37m\u001B[0m \u001B[1m462s\u001B[0m 986ms/step - accuracy: 0.9086 - loss: 0.5075 - val_accuracy: 0.4523 - val_loss: 1.0145\n",
      "Epoch 3/3\n",
      "\u001B[1m469/469\u001B[0m \u001B[32m━━━━━━━━━━━━━━━━━━━━\u001B[0m\u001B[37m\u001B[0m \u001B[1m499s\u001B[0m 1s/step - accuracy: 0.9272 - loss: 0.2878 - val_accuracy: 0.5530 - val_loss: 1.0026\n"
     ]
    },
    {
     "name": "stderr",
     "output_type": "stream",
     "text": [
      "WARNING:absl:You are saving your model as an HDF5 file via `model.save()` or `keras.saving.save_model(model)`. This file format is considered legacy. We recommend using instead the native Keras format, e.g. `model.save('my_model.keras')` or `keras.saving.save_model(model, 'my_model.keras')`. \n"
     ]
    },
    {
     "name": "stdout",
     "output_type": "stream",
     "text": [
      "Model and training history saved successfully!\n"
     ]
    }
   ],
   "source": [
    "import pickle\n",
    "import tensorflow as tf\n",
    "\n",
    "epochs = 3\n",
    "history = model.fit(\n",
    "    training_set,\n",
    "    validation_data=test_set,\n",
    "    epochs=epochs\n",
    ")\n",
    "model.save(\"my_model_hazy.h5\")\n",
    "with open(\"history_hazy.pkl\", \"wb\") as f:\n",
    "    pickle.dump(history.history, f)\n",
    "\n",
    "print(\"Model and training history saved successfully!\")\n"
   ]
  },
  {
   "cell_type": "code",
   "id": "97c9c2ca-bd5f-4d41-8948-1024aa2eccc5",
   "metadata": {
    "ExecuteTime": {
     "end_time": "2025-04-04T17:40:26.586675Z",
     "start_time": "2025-04-04T17:40:26.400621Z"
    }
   },
   "source": [
    "import pickle\n",
    "import matplotlib.pyplot as plt  # Import missing library\n",
    "\n",
    "# Load training history from pickle file\n",
    "with open(\"history_hazy.pkl\", \"rb\") as f:\n",
    "    loaded_history = pickle.load(f)\n",
    "\n",
    "print(loaded_history.keys())  # Check available training metrics\n",
    "\n",
    "# Function to plot accuracy\n",
    "def plot_accuracy(history):\n",
    "    plt.figure(figsize=(8, 5))  # Set figure size\n",
    "    plt.plot(history['accuracy'], label='Train Accuracy')\n",
    "    plt.plot(history['val_accuracy'], label='Validation Accuracy')\n",
    "    plt.xlabel('Epochs')\n",
    "    plt.ylabel('Accuracy')\n",
    "    plt.title('Model Accuracy')\n",
    "    plt.legend()\n",
    "    plt.grid()\n",
    "    plt.show()  # Display the plot\n",
    "\n",
    "# Call function with correct variable\n",
    "plot_accuracy(loaded_history)\n"
   ],
   "outputs": [
    {
     "name": "stdout",
     "output_type": "stream",
     "text": [
      "dict_keys(['accuracy', 'loss', 'val_accuracy', 'val_loss'])\n"
     ]
    },
    {
     "data": {
      "text/plain": [
       "<Figure size 800x500 with 1 Axes>"
      ],
      "image/png": "[encoded data removed]"
     },
     "metadata": {},
     "output_type": "display_data"
    }
   ],
   "execution_count": 9
  },
  {
   "cell_type": "code",
   "id": "952ad929a7750768",
   "metadata": {
    "ExecuteTime": {
     "end_time": "2025-04-04T17:42:03.043933Z",
     "start_time": "2025-04-04T17:42:02.870397Z"
    }
   },
   "source": [
    "import pickle\n",
    "import matplotlib.pyplot as plt  # Import missing library\n",
    "\n",
    "# Load training history from pickle file\n",
    "with open(\"history_hazy.pkl\", \"rb\") as f:\n",
    "    loaded_history = pickle.load(f)\n",
    "\n",
    "print(loaded_history.keys())  # Check available training metrics\n",
    "\n",
    "# Function to plot loss\n",
    "def plot_loss(history):\n",
    "    plt.figure(figsize=(8, 5))  # Set figure size\n",
    "\n",
    "    # Access loss values correctly\n",
    "    plt.plot(history['loss'], label='Train Loss')\n",
    "    plt.plot(history['val_loss'], label='Validation Loss')\n",
    "\n",
    "    plt.xlabel('Epochs')\n",
    "    plt.ylabel('Loss')\n",
    "    plt.title('Model Loss')\n",
    "    plt.legend()\n",
    "    plt.grid()\n",
    "    plt.show()\n",
    "\n",
    "# Call function with correct variable\n",
    "plot_loss(loaded_history)\n"
   ],
   "outputs": [
    {
     "name": "stdout",
     "output_type": "stream",
     "text": [
      "dict_keys(['accuracy', 'loss', 'val_accuracy', 'val_loss'])\n"
     ]
    },
    {
     "data": {
      "text/plain": [
       "<Figure size 800x500 with 1 Axes>"
      ],
      "image/png": "[encoded data removed]"
     },
     "metadata": {},
     "output_type": "display_data"
    }
   ],
   "execution_count": 13
  },
  {
   "cell_type": "code",
   "execution_count": null,
   "id": "c92534268b8f59d6",
   "metadata": {
    "ExecuteTime": {
     "end_time": "2025-03-16T06:50:39.511107Z",
     "start_time": "2025-03-16T06:49:30.887536Z"
    }
   },
   "outputs": [],
   "source": [
    "test_loss, test_accuracy = model.evaluate(test_set)\n",
    "print(f\"\\n🔹 Test Accuracy after initial training: {test_accuracy * 100:.2f}%\")"
   ]
  },
  {
   "cell_type": "code",
   "execution_count": null,
   "id": "134dd70ef35ea03a",
   "metadata": {
    "ExecuteTime": {
     "end_time": "2025-03-16T06:51:40.471593Z",
     "start_time": "2025-03-16T06:51:40.463740Z"
    }
   },
   "outputs": [],
   "source": [
    "# Fine-Tuning (Unfreeze last 10 layers)\n",
    "base_model.trainable = True\n",
    "for layer in base_model.layers[:-10]:  # Keep first layers frozen\n",
    "    layer.trainable = False\n",
    "\n",
    "# Recompile Model\n",
    "model.compile(\n",
    "    optimizer=Adam(learning_rate=1e-5),\n",
    "    loss='categorical_crossentropy',\n",
    "    metrics=['accuracy']\n",
    ")"
   ]
  },
  {
   "cell_type": "code",
   "execution_count": null,
   "id": "a417f1b408dfa850",
   "metadata": {
    "ExecuteTime": {
     "end_time": "2025-03-16T07:21:32.595558Z",
     "start_time": "2025-03-16T06:51:46.631380Z"
    }
   },
   "outputs": [],
   "source": [
    "from keras.api.optimizers import Adam\n",
    "\n",
    "fine_tune_epochs = 2\n",
    "# Reduce learning rate for fine-tuning\n",
    "model.compile(optimizer=Adam(learning_rate=1e-5), loss='categorical_crossentropy', metrics=['accuracy'])\n",
    "\n",
    "# Fine-tune\n",
    "history_fine = model.fit(\n",
    "    training_set,\n",
    "    validation_data=test_set,\n",
    "    epochs=fine_tune_epochs, verbose=2\n",
    ")\n",
    "model.save(\"my_model-f-hazy.h5\")\n",
    "with open(\"history-f-hazy.pkl\", \"wb\") as f:\n",
    "    pickle.dump(history.history, f)"
   ]
  },
  {
   "cell_type": "code",
   "execution_count": null,
   "id": "3fcc9501d8417cb1",
   "metadata": {
    "ExecuteTime": {
     "end_time": "2025-03-16T07:21:53.502888Z",
     "start_time": "2025-03-16T07:21:53.295566Z"
    }
   },
   "outputs": [],
   "source": [
    "#compare the original training and fine-tuning performance\n",
    "import matplotlib.pyplot as plt\n",
    "\n",
    "\n",
    "def plot_fine_tuning(history, history_fine):\n",
    "    # Combine accuracy\n",
    "    acc = history.history['accuracy'] + history_fine.history['accuracy']\n",
    "    val_acc = history.history['val_accuracy'] + history_fine.history['val_accuracy']\n",
    "\n",
    "    # Combine loss\n",
    "    loss = history.history['loss'] + history_fine.history['loss']\n",
    "    val_loss = history.history['val_loss'] + history_fine.history['val_loss']\n",
    "\n",
    "    epochs_range = range(len(acc))\n",
    "\n",
    "    # Plot Accuracy\n",
    "    plt.figure(figsize=(10, 4))\n",
    "    plt.subplot(1, 2, 1)\n",
    "    plt.plot(epochs_range, acc, label='Train Accuracy')\n",
    "    plt.plot(epochs_range, val_acc, label='Validation Accuracy')\n",
    "    plt.xlabel('Epochs')\n",
    "    plt.ylabel('Accuracy')\n",
    "    plt.title('Train vs Validation Accuracy')\n",
    "    plt.legend()\n",
    "    plt.grid()\n",
    "\n",
    "    # Plot Loss\n",
    "    plt.subplot(1, 2, 2)\n",
    "    plt.plot(epochs_range, loss, label='Train Loss')\n",
    "    plt.plot(epochs_range, val_loss, label='Validation Loss')\n",
    "    plt.xlabel('Epochs')\n",
    "    plt.ylabel('Loss')\n",
    "    plt.title('Train vs Validation Loss')\n",
    "    plt.legend()\n",
    "    plt.grid()\n",
    "\n",
    "    plt.show()\n",
    "\n",
    "\n",
    "# Call the function to plot\n",
    "plot_fine_tuning(history, history_fine)"
   ]
  },
  {
   "cell_type": "code",
   "execution_count": null,
   "id": "f6e04d17d17aebb7",
   "metadata": {
    "ExecuteTime": {
     "end_time": "2025-03-16T07:21:57.666178Z",
     "start_time": "2025-03-16T07:21:57.400274Z"
    }
   },
   "outputs": [],
   "source": [
    "import matplotlib.pyplot as plt\n",
    "\n",
    "\n",
    "def plot_history(history, title_suffix=\"\"):\n",
    "    # Create a figure with two subplots: one for accuracy, one for loss\n",
    "    plt.figure(figsize=(12, 5))\n",
    "\n",
    "    # Accuracy subplot\n",
    "    plt.subplot(1, 2, 1)\n",
    "    plt.plot(history.history['accuracy'], marker='o', label='Train Accuracy')\n",
    "    plt.plot(history.history['val_accuracy'], marker='o', label='Validation Accuracy')\n",
    "    plt.xlabel('Epoch')\n",
    "    plt.ylabel('Accuracy')\n",
    "    plt.title('Model Accuracy ' + title_suffix)\n",
    "    plt.legend()\n",
    "    plt.grid(True)\n",
    "\n",
    "    # Loss subplot\n",
    "    plt.subplot(1, 2, 2)\n",
    "    plt.plot(history.history['loss'], marker='o', label='Train Loss')\n",
    "    plt.plot(history.history['val_loss'], marker='o', label='Validation Loss')\n",
    "    plt.xlabel('Epoch')\n",
    "    plt.ylabel('Loss')\n",
    "    plt.title('Model Loss ' + title_suffix)\n",
    "    plt.legend()\n",
    "    plt.grid(True)\n",
    "\n",
    "    plt.tight_layout()\n",
    "    plt.show()\n",
    "\n",
    "\n",
    "# Plot the fine-tuning history\n",
    "plot_history(history_fine, title_suffix=\"(Fine-Tuning)\")\n"
   ]
  },
  {
   "cell_type": "code",
   "execution_count": 2,
   "id": "e445b19332b906e3",
   "metadata": {
    "ExecuteTime": {
     "end_time": "2025-04-02T11:14:35.464271Z",
     "start_time": "2025-04-02T11:14:35.418684Z"
    }
   },
   "outputs": [
    {
     "ename": "NameError",
     "evalue": "name 'model' is not defined",
     "output_type": "error",
     "traceback": [
      "\u001B[31m---------------------------------------------------------------------------\u001B[39m",
      "\u001B[31mNameError\u001B[39m                                 Traceback (most recent call last)",
      "\u001B[36mCell\u001B[39m\u001B[36m \u001B[39m\u001B[32mIn[2]\u001B[39m\u001B[32m, line 7\u001B[39m\n\u001B[32m      4\u001B[39m test_image = np.expand_dims(test_image, axis=\u001B[32m0\u001B[39m)\n\u001B[32m      5\u001B[39m test_image = test_image / \u001B[32m255.0\u001B[39m\n\u001B[32m----> \u001B[39m\u001B[32m7\u001B[39m result = \u001B[43mmodel\u001B[49m.predict(test_image)\n\u001B[32m      8\u001B[39m class_index = np.argmax(result[\u001B[32m0\u001B[39m])\n\u001B[32m      9\u001B[39m class_labels = {\u001B[32m0\u001B[39m: \u001B[33m'\u001B[39m\u001B[33mcat\u001B[39m\u001B[33m'\u001B[39m, \u001B[32m1\u001B[39m: \u001B[33m'\u001B[39m\u001B[33mdog\u001B[39m\u001B[33m'\u001B[39m, \u001B[32m2\u001B[39m: \u001B[33m'\u001B[39m\u001B[33mhuman\u001B[39m\u001B[33m'\u001B[39m}\n",
      "\u001B[31mNameError\u001B[39m: name 'model' is not defined"
     ]
    }
   ],
   "source": [
    "\n",
    "# Load and Predict a Single Image\n",
    "test_image = image.load_img('D:/sdp/test/img_10.png', target_size=(150, 150))\n",
    "test_image = image.img_to_array(test_image)\n",
    "test_image = np.expand_dims(test_image, axis=0)\n",
    "test_image = test_image / 255.0\n",
    "\n",
    "result = model.predict(test_image)\n",
    "class_index = np.argmax(result[0])\n",
    "class_labels = {0: 'cat', 1: 'dog', 2: 'human'}\n",
    "prediction = class_labels[class_index]\n",
    "\n",
    "print(f\"\\n🟢 Prediction: {prediction}\")"
   ]
  },
  {
   "cell_type": "code",
   "id": "9decf6b6bfa5dd71",
   "metadata": {
    "ExecuteTime": {
     "end_time": "2025-04-21T13:04:29.427067Z",
     "start_time": "2025-04-21T13:02:08.333280Z"
    }
   },
   "source": [
    "from keras.api.models import load_model\n",
    "from keras_preprocessing.image import ImageDataGenerator\n",
    "\n",
    "loaded_model = load_model('my_model_hazy.h5')\n",
    "\n",
    "test_datagen = ImageDataGenerator(rescale=1.0 / 255.0)\n",
    "\n",
    "test_generator = test_datagen.flow_from_directory(\n",
    "    r'D:\\sdp\\redd\\test',\n",
    "    target_size=(150, 150),\n",
    "    batch_size=32,\n",
    "    class_mode='categorical',\n",
    "    shuffle=False\n",
    ")\n",
    "\n",
    "# Evaluate the model\n",
    "loss, accuracy = loaded_model.evaluate(test_generator)\n",
    "\n",
    "print(f\"Accuracy: {accuracy * 100:.2f}%\")\n",
    "print(f\"Loss: {loss:.4f}\")\n",
    "\n",
    "import numpy as np\n",
    "from sklearn.metrics import classification_report\n",
    "\n",
    "y_true = test_generator.classes\n",
    "\n",
    "y_pred_probs = loaded_model.predict(test_generator)\n",
    "y_pred = np.argmax(y_pred_probs, axis=1)\n",
    "\n",
    "class_labels = list(test_generator.class_indices.keys())\n",
    "\n",
    "print(classification_report(y_true, y_pred, target_names=class_labels))"
   ],
   "outputs": [
    {
     "name": "stderr",
     "output_type": "stream",
     "text": [
      "WARNING:absl:Compiled the loaded model, but the compiled metrics have yet to be built. `model.compile_metrics` will be empty until you train or evaluate the model.\n",
      "D:\\sdp\\.venv\\Lib\\site-packages\\keras\\src\\trainers\\data_adapters\\py_dataset_adapter.py:121: UserWarning: Your `PyDataset` class should call `super().__init__(**kwargs)` in its constructor. `**kwargs` can include `workers`, `use_multiprocessing`, `max_queue_size`. Do not pass these arguments to `fit()`, as they will be ignored.\n",
      "  self._warn_if_super_not_called()\n"
     ]
    },
    {
     "name": "stdout",
     "output_type": "stream",
     "text": [
      "Found 3000 images belonging to 3 classes.\n",
      "\u001B[1m94/94\u001B[0m \u001B[32m━━━━━━━━━━━━━━━━━━━━\u001B[0m\u001B[37m\u001B[0m \u001B[1m66s\u001B[0m 688ms/step - accuracy: 0.7584 - loss: 0.9505\n",
      "Accuracy: 55.30%\n",
      "Loss: 1.0026\n",
      "\u001B[1m94/94\u001B[0m \u001B[32m━━━━━━━━━━━━━━━━━━━━\u001B[0m\u001B[37m\u001B[0m \u001B[1m71s\u001B[0m 758ms/step\n",
      "              precision    recall  f1-score   support\n",
      "\n",
      "         cat       0.43      0.98      0.60      1000\n",
      "         dog       0.78      0.19      0.30      1000\n",
      "       human       0.99      0.49      0.66      1000\n",
      "\n",
      "    accuracy                           0.55      3000\n",
      "   macro avg       0.73      0.55      0.52      3000\n",
      "weighted avg       0.73      0.55      0.52      3000\n",
      "\n"
     ]
    }
   ],
   "execution_count": 1
  },
  {
   "cell_type": "code",
   "execution_count": null,
   "id": "f021a99ffd597c95",
   "metadata": {},
   "outputs": [],
   "source": [
    "import cv2\n",
    "import numpy as np\n",
    "import tensorflow as tf\n",
    "from PIL import ImageFile\n",
    "from keras_preprocessing import image\n",
    "\n",
    "ImageFile.LOAD_TRUNCATED_IMAGES = True\n",
    "\n",
    "cnn = tf.keras.models.load_model('my_model-f.h5')\n",
    "\n",
    "cap = cv2.VideoCapture(0)\n",
    "cap.set(3, 640)  # Width\n",
    "cap.set(4, 480)  # Height\n",
    "\n",
    "while True:\n",
    "    ret, frame = cap.read()\n",
    "\n",
    "    cv2.imshow('Camera', frame)\n",
    "\n",
    "    key = cv2.waitKey(1) & 0xFF\n",
    "    if key == ord('c'):\n",
    "        # Process the captured image\n",
    "        test_image = cv2.cvtColor(frame, cv2.COLOR_BGR2RGB)\n",
    "        test_image_resized = cv2.resize(test_image, (150, 150))\n",
    "        test_image_resized = image.img_to_array(test_image_resized)\n",
    "        test_image_resized = np.expand_dims(test_image_resized, axis=0)\n",
    "        test_image_resized = test_image_resized / 255.0\n",
    "\n",
    "        result = cnn.predict(test_image_resized)\n",
    "        class_index = np.argmax(result[0])\n",
    "        class_labels = {0: 'cat', 1: 'dog', 2: 'human'}\n",
    "\n",
    "        prediction = class_labels[class_index]\n",
    "        print(f\"Prediction: {prediction}\")\n",
    "\n",
    "        h, w, _ = frame.shape\n",
    "        top_left = (50, 50)\n",
    "        bottom_right = (w - 50, h - 50)\n",
    "\n",
    "        cv2.rectangle(frame, top_left, bottom_right, (0, 255, 0), 2)\n",
    "        label_position = (top_left[0], top_left[1] - 10)\n",
    "        cv2.putText(frame, prediction, label_position, cv2.FONT_HERSHEY_SIMPLEX, 0.9, (0, 255, 0), 2)\n",
    "\n",
    "        cv2.imshow('Camera with Bounding Box', frame)\n",
    "        verbose = 2\n",
    "\n",
    "    if key == ord('q'):\n",
    "        break\n",
    "\n",
    "cap.release()\n",
    "cv2.destroyAllWindows()"
   ]
  },
  {
   "cell_type": "code",
   "execution_count": 8,
   "id": "52e0ad7455dec996",
   "metadata": {
    "ExecuteTime": {
     "end_time": "2025-04-04T09:01:40.058220Z",
     "start_time": "2025-04-04T09:01:39.673801Z"
    }
   },
   "outputs": [
    {
     "name": "stderr",
     "output_type": "stream",
     "text": [
      "WARNING:absl:Compiled the loaded model, but the compiled metrics have yet to be built. `model.compile_metrics` will be empty until you train or evaluate the model.\n"
     ]
    },
    {
     "name": "stdout",
     "output_type": "stream",
     "text": [
      "\u001B[1m1/1\u001B[0m \u001B[32m━━━━━━━━━━━━━━━━━━━━\u001B[0m\u001B[37m\u001B[0m \u001B[1m0s\u001B[0m 179ms/step\n",
      "Prediction: dog\n"
     ]
    }
   ],
   "source": [
    "import tensorflow as tf\n",
    "import numpy as np\n",
    "from keras_preprocessing import image\n",
    "\n",
    "# Load Model\n",
    "cnn = tf.keras.models.load_model('my_model-f.h5')\n",
    "\n",
    "# Load and Preprocess Image\n",
    "test_image = image.load_img('D:/sdp/test/processed_img2.png', target_size=(150, 150))\n",
    "test_image = image.img_to_array(test_image)  # Convert to NumPy array\n",
    "test_image = np.expand_dims(test_image, axis=0)  # Expand batch dimension\n",
    "test_image = test_image / 255.0  # Normalize\n",
    "\n",
    "# Predict\n",
    "result = cnn.predict(test_image)\n",
    "class_index = np.argmax(result[0])  # Get class index\n",
    "\n",
    "# Define Class Labels\n",
    "class_labels = {0: 'cat', 1: 'dog', 2: 'human'}\n",
    "prediction = class_labels[class_index]\n",
    "\n",
    "# Print Prediction\n",
    "print(f\"Prediction: {prediction}\")\n"
   ]
  },
  {
   "metadata": {
    "ExecuteTime": {
     "end_time": "2025-04-18T05:46:23.763919Z",
     "start_time": "2025-04-18T05:44:54.372725Z"
    }
   },
   "cell_type": "code",
   "source": [
    "import tensorflow as tf\n",
    "import numpy as np\n",
    "from keras_preprocessing import image\n",
    "\n",
    "# Load Model\n",
    "cnn = tf.keras.models.load_model('my_model_hazy.h5')\n",
    "test_loss, test_accuracy = cnn.evaluate(test_set)\n",
    "print(f\"\\n🔹 Test Accuracy after initial training: {test_accuracy * 100:.2f}%\")\n"
   ],
   "id": "64404c17f6cc644e",
   "outputs": [
    {
     "name": "stderr",
     "output_type": "stream",
     "text": [
      "WARNING:absl:Compiled the loaded model, but the compiled metrics have yet to be built. `model.compile_metrics` will be empty until you train or evaluate the model.\n",
      "D:\\sdp\\.venv\\Lib\\site-packages\\keras\\src\\trainers\\data_adapters\\py_dataset_adapter.py:121: UserWarning: Your `PyDataset` class should call `super().__init__(**kwargs)` in its constructor. `**kwargs` can include `workers`, `use_multiprocessing`, `max_queue_size`. Do not pass these arguments to `fit()`, as they will be ignored.\n",
      "  self._warn_if_super_not_called()\n"
     ]
    },
    {
     "name": "stdout",
     "output_type": "stream",
     "text": [
      "\u001B[1m94/94\u001B[0m \u001B[32m━━━━━━━━━━━━━━━━━━━━\u001B[0m\u001B[37m\u001B[0m \u001B[1m89s\u001B[0m 937ms/step - accuracy: 0.5476 - loss: 1.0055\n",
      "\n",
      "🔹 Test Accuracy after initial training: 55.30%\n"
     ]
    }
   ],
   "execution_count": 5
  }
 ],
 "metadata": {
  "kernelspec": {
   "display_name": "Python 3 (ipykernel)",
   "language": "python",
   "name": "python3"
  },
  "language_info": {
   "codemirror_mode": {
    "name": "ipython",
    "version": 3
   },
   "file_extension": ".py",
   "mimetype": "text/x-python",
   "name": "python",
   "nbconvert_exporter": "python",
   "pygments_lexer": "ipython3",
   "version": "3.12.8"
  }
 },
 "nbformat": 4,
 "nbformat_minor": 5
}
