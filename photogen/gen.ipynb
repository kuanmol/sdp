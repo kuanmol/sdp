{
 "cells": [
  {
   "cell_type": "code",
   "execution_count": null,
   "id": "initial_id",
   "metadata": {
    "collapsed": true
   },
   "outputs": [],
   "source": [
    ""
   ]
  },
  {
   "metadata": {
    "ExecuteTime": {
     "end_time": "2025-04-16T10:51:09.851587Z",
     "start_time": "2025-04-16T10:51:09.835653Z"
    }
   },
   "cell_type": "code",
   "source": [
    "import cv2\n",
    "import numpy as np\n",
    "import os\n",
    "\n",
    "# === Degradation Functions ===\n",
    "\n",
    "def add_haze(image, intensity=0.6):\n",
    "    \"\"\"Add synthetic haze by blending with white.\"\"\"\n",
    "    haze = np.full_like(image, 255)\n",
    "    hazed_img = cv2.addWeighted(image, 1 - intensity, haze, intensity, 0)\n",
    "    return hazed_img\n",
    "\n",
    "\n",
    "def add_noise(image, mean=0, var=30):\n",
    "    \"\"\"Add Gaussian noise to the image.\"\"\"\n",
    "    sigma = var ** 1.0\n",
    "    gaussian = np.random.normal(mean, sigma, image.shape).astype(np.float32)\n",
    "    noisy_img = image.astype(np.float32) + gaussian\n",
    "    noisy_img = np.clip(noisy_img, 0, 255).astype(np.uint8)\n",
    "    return noisy_img\n",
    "\n",
    "\n",
    "def add_blur(image, kernel_size=31):\n",
    "    \"\"\"Add Gaussian blur to the image.\"\"\"\n",
    "    return cv2.GaussianBlur(image, (kernel_size, kernel_size), 0)\n",
    "\n",
    "\n",
    "def adjust_contrast(image, alpha=2.4):\n",
    "    \"\"\"Increase or decrease contrast.\"\"\"\n",
    "    contrast_img = cv2.convertScaleAbs(image, alpha=alpha, beta=0)\n",
    "    return contrast_img\n",
    "\n",
    "\n",
    "def add_jpeg_artifacts(image, quality=50):\n",
    "    \"\"\"Simulate JPEG compression artifacts.\"\"\"\n",
    "    encode_param = [int(cv2.IMWRITE_JPEG_QUALITY), quality]\n",
    "    _, encimg = cv2.imencode('.jpg', image, encode_param)\n",
    "    decimg = cv2.imdecode(encimg, 1)\n",
    "    return decimg\n",
    "\n",
    "\n",
    "# === Load Image ===\n",
    "\n",
    "#image_path = \"D:/sdp/test/img_13.png\"\n",
    "image_path=\"D:/sdp/photogen/degraded_outputs/noisy.jpg\"\n",
    "image = cv2.imread(image_path)\n",
    "\n",
    "if image is None:\n",
    "    raise FileNotFoundError(f\"❌ Image not found at: {image_path}\")\n",
    "else:\n",
    "    print(\"✅ Image loaded successfully!\")\n",
    "\n",
    "# === Apply Effects ===\n",
    "hazed = add_haze(image)\n",
    "\n",
    "# === Save Results ===\n",
    "\n",
    "output_dir = \"degraded_outputs\"\n",
    "os.makedirs(output_dir, exist_ok=True)\n",
    "\n",
    "cv2.imwrite(os.path.join(output_dir, \"original.jpg\"), image)\n",
    "cv2.imwrite(os.path.join(output_dir, \"blurred.jpg\"), blurred)\n",
    "cv2.imwrite(os.path.join(output_dir, \"hazed.jpg\"), hazed)\n",
    "cv2.imwrite(os.path.join(output_dir, \"noisy.jpg\"), noisy)\n",
    "cv2.imwrite(os.path.join(output_dir, \"contrast.jpg\"), contrast)\n",
    "cv2.imwrite(os.path.join(output_dir, \"jpeg_artifacts.jpg\"), jpeg_effect)\n",
    "\n",
    "print(\"✅ All degraded images saved in 'degraded_outputs' folder.\")\n"
   ],
   "id": "4af0bdf906c7c7ff",
   "outputs": [
    {
     "name": "stdout",
     "output_type": "stream",
     "text": [
      "✅ Image loaded successfully!\n",
      "✅ All degraded images saved in 'degraded_outputs' folder.\n"
     ]
    }
   ],
   "execution_count": 32
  }
 ],
 "metadata": {
  "kernelspec": {
   "display_name": "Python 3",
   "language": "python",
   "name": "python3"
  },
  "language_info": {
   "codemirror_mode": {
    "name": "ipython",
    "version": 2
   },
   "file_extension": ".py",
   "mimetype": "text/x-python",
   "name": "python",
   "nbconvert_exporter": "python",
   "pygments_lexer": "ipython2",
   "version": "2.7.6"
  }
 },
 "nbformat": 4,
 "nbformat_minor": 5
}
