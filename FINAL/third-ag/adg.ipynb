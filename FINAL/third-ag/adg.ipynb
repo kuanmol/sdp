{
 "cells": [
  {
   "cell_type": "code",
   "execution_count": 1,
   "id": "31c63a427d3f61f3",
   "metadata": {},
   "outputs": [],
   "source": [
    "import os\n",
    "\n",
    "os.environ['TF_CPP_MIN_LOG_LEVEL'] = '3'  # 0 = all logs, 1 = filter INFO, 2 = filter WARNING, 3 = only ERROR"
   ]
  },
  {
   "cell_type": "code",
   "execution_count": 2,
   "id": "ffff778160d5519b",
   "metadata": {},
   "outputs": [
    {
     "name": "stderr",
     "output_type": "stream",
     "text": [
      "WARNING: All log messages before absl::InitializeLog() is called are written to STDERR\n",
      "E0000 00:00:1744090273.467709    2719 cuda_dnn.cc:8310] Unable to register cuDNN factory: Attempting to register factory for plugin cuDNN when one has already been registered\n",
      "E0000 00:00:1744090273.474051    2719 cuda_blas.cc:1418] Unable to register cuBLAS factory: Attempting to register factory for plugin cuBLAS when one has already been registered\n"
     ]
    },
    {
     "name": "stdout",
     "output_type": "stream",
     "text": [
      "Asfa\n"
     ]
    }
   ],
   "source": [
    "import numpy as np\n",
    "from keras_preprocessing import image\n",
    "from keras_preprocessing.image import ImageDataGenerator\n",
    "from keras.api.layers import Dense, GlobalAveragePooling2D, Dropout, MaxPooling2D, BatchNormalization, Conv2D, Flatten\n",
    "from keras.api.models import Model\n",
    "from keras.api.optimizers import Adam\n",
    "from PIL import ImageFile\n",
    "from keras.api.applications import VGG16\n",
    "\n",
    "\n",
    "ImageFile.LOAD_TRUNCATED_IMAGES = True\n",
    "\n",
    "# Define new dataset path\n",
    "#train_dir = r\"D:\\sdp\\redd\\train\"\n",
    "#test_dir = r\"D:\\sdp\\redd\\test\"\n",
    "train_dir = r\"/workspace/sdp/redd/train\"\n",
    "test_dir = r\"/workspace/sdp/redd/test\"\n",
    "print(\"Asfa\")"
   ]
  },
  {
   "cell_type": "code",
   "execution_count": 3,
   "id": "8653be7c976ca737",
   "metadata": {},
   "outputs": [],
   "source": [
    "import numpy as np\n",
    "import cv2\n",
    "import random\n",
    "\n",
    "def apply_random_degradation(image):\n",
    "    \"\"\"Applies light, realistic degradations.\"\"\"\n",
    "    degrade_options = [\n",
    "        add_gaussian_blur,\n",
    "        add_gaussian_noise,\n",
    "        add_haze_effect,\n",
    "        adjust_contrast_randomly,\n",
    "        add_jpeg_artifacts\n",
    "    ]\n",
    "\n",
    "    num_degradations = random.randint(1, 2)  # lighter: max 2 degradations\n",
    "    selected = random.sample(degrade_options, num_degradations)\n",
    "\n",
    "    for degrade in selected:\n",
    "        image = degrade(image)\n",
    "\n",
    "    return image\n",
    "\n",
    "def add_gaussian_blur(image):\n",
    "    \"\"\"Mild Gaussian blur\"\"\"\n",
    "    if random.random() < 0.3:\n",
    "        kernel_size = random.choice([3, 5])  # removed 7\n",
    "        return cv2.GaussianBlur(image, (kernel_size, kernel_size), 0)\n",
    "    return image\n",
    "\n",
    "def add_gaussian_noise(image):\n",
    "    \"\"\"Mild Gaussian noise\"\"\"\n",
    "    if random.random() < 0.3:\n",
    "        row, col, ch = image.shape\n",
    "        sigma = 0.01  # previously variable, now fixed low\n",
    "        gauss = np.random.normal(0, sigma, (row, col, ch))\n",
    "        noisy = image + gauss\n",
    "        return np.clip(noisy, 0, 1)\n",
    "    return image\n",
    "\n",
    "def add_haze_effect(image):\n",
    "    \"\"\"Light haze\"\"\"\n",
    "    if random.random() < 0.2:\n",
    "        haze_factor = random.uniform(0.85, 0.95)  # previously 0.3–0.7\n",
    "        haze_color = np.ones_like(image) * 0.9\n",
    "        hazy = image * haze_factor + haze_color * (1 - haze_factor)\n",
    "        return np.clip(hazy, 0, 1)\n",
    "    return image\n",
    "\n",
    "def adjust_contrast_randomly(image):\n",
    "    \"\"\"Subtle contrast adjustment\"\"\"\n",
    "    if random.random() < 0.3:\n",
    "        alpha = random.uniform(0.85, 1.15)\n",
    "        return np.clip(alpha * image, 0, 1)\n",
    "    return image\n",
    "\n",
    "def add_jpeg_artifacts(image):\n",
    "    \"\"\"Mild JPEG compression artifacts\"\"\"\n",
    "    if random.random() < 0.2:\n",
    "        quality = random.randint(50, 80)  # narrowed quality range\n",
    "        encode_param = [int(cv2.IMWRITE_JPEG_QUALITY), quality]\n",
    "        result, encimg = cv2.imencode('.jpg', (image * 255).astype(np.uint8), encode_param)\n",
    "        decimg = cv2.imdecode(encimg, 1)\n",
    "        return decimg.astype(np.float32) / 255.0\n",
    "    return image\n"
   ]
  },
  {
   "cell_type": "code",
   "execution_count": 4,
   "id": "317f99dba12a14d3",
   "metadata": {},
   "outputs": [
    {
     "name": "stdout",
     "output_type": "stream",
     "text": [
      "Found 15000 images belonging to 3 classes.\n",
      "Found 3000 images belonging to 3 classes.\n"
     ]
    }
   ],
   "source": [
    "train_datagen = ImageDataGenerator(\n",
    "    rescale=1./255,\n",
    "    rotation_range=40,          # Random rotation up to 40 degrees\n",
    "    width_shift_range=0.2,      # Random horizontal shift\n",
    "    height_shift_range=0.2,     # Random vertical shift\n",
    "    shear_range=0.2,            # Shear transformations\n",
    "    zoom_range=0.2,             # Random zoom\n",
    "    horizontal_flip=True,       # Random horizontal flip\n",
    "    brightness_range=[0.5, 1.5],# Random brightness adjustment\n",
    "    fill_mode='nearest',        # How to fill points outside boundaries\n",
    "    \n",
    "    # Augmentations for real-world scenarios\n",
    "    channel_shift_range=50.0,   # Random channel shifts (color changes)\n",
    "    \n",
    "    # Custom preprocessing functions for more complex augmentations\n",
    "    preprocessing_function=lambda x: apply_random_degradation(x)\n",
    ")\n",
    "\n",
    "test_datagen = ImageDataGenerator(rescale=1. / 255)\n",
    "\n",
    "training_set = train_datagen.flow_from_directory(\n",
    "    train_dir,\n",
    "    target_size=(150, 150),\n",
    "    batch_size=32,\n",
    "    class_mode='categorical'\n",
    ")\n",
    "\n",
    "test_set = test_datagen.flow_from_directory(\n",
    "    test_dir,\n",
    "    target_size=(150, 150),\n",
    "    batch_size=32,\n",
    "    class_mode='categorical',\n",
    "    shuffle=False\n",
    ")"
   ]
  },
  {
   "cell_type": "code",
   "execution_count": 5,
   "id": "a59d741326fe19ab",
   "metadata": {},
   "outputs": [
    {
     "name": "stderr",
     "output_type": "stream",
     "text": [
      "I0000 00:00:1744090287.960162    2719 gpu_device.cc:2022] Created device /job:localhost/replica:0/task:0/device:GPU:0 with 3620 MB memory:  -> device: 0, name: NVIDIA GeForce RTX 3050 6GB Laptop GPU, pci bus id: 0000:01:00.0, compute capability: 8.6\n"
     ]
    },
    {
     "name": "stdout",
     "output_type": "stream",
     "text": [
      "Downloading data from https://storage.googleapis.com/tensorflow/keras-applications/vgg16/vgg16_weights_tf_dim_ordering_tf_kernels_notop.h5\n",
      "\u001B[1m58889256/58889256\u001B[0m \u001B[32m━━━━━━━━━━━━━━━━━━━━\u001B[0m\u001B[37m\u001B[0m \u001B[1m5s\u001B[0m 0us/step\n"
     ]
    },
    {
     "data": {
      "text/html": [
       "<pre style=\"white-space:pre;overflow-x:auto;line-height:normal;font-family:Menlo,'DejaVu Sans Mono',consolas,'Courier New',monospace\"><span style=\"font-weight: bold\">Model: \"functional\"</span>\n",
       "</pre>\n"
      ],
      "text/plain": [
       "\u001B[1mModel: \"functional\"\u001B[0m\n"
      ]
     },
     "metadata": {},
     "output_type": "display_data"
    },
    {
     "data": {
      "text/html": [
       "<pre style=\"white-space:pre;overflow-x:auto;line-height:normal;font-family:Menlo,'DejaVu Sans Mono',consolas,'Courier New',monospace\">┏━━━━━━━━━━━━━━━━━━━━━━━━━━━━━━━━━┳━━━━━━━━━━━━━━━━━━━━━━━━┳━━━━━━━━━━━━━━━┓\n",
       "┃<span style=\"font-weight: bold\"> Layer (type)                    </span>┃<span style=\"font-weight: bold\"> Output Shape           </span>┃<span style=\"font-weight: bold\">       Param # </span>┃\n",
       "┡━━━━━━━━━━━━━━━━━━━━━━━━━━━━━━━━━╇━━━━━━━━━━━━━━━━━━━━━━━━╇━━━━━━━━━━━━━━━┩\n",
       "│ input_layer (<span style=\"color: #0087ff; text-decoration-color: #0087ff\">InputLayer</span>)        │ (<span style=\"color: #00d7ff; text-decoration-color: #00d7ff\">None</span>, <span style=\"color: #00af00; text-decoration-color: #00af00\">150</span>, <span style=\"color: #00af00; text-decoration-color: #00af00\">150</span>, <span style=\"color: #00af00; text-decoration-color: #00af00\">3</span>)    │             <span style=\"color: #00af00; text-decoration-color: #00af00\">0</span> │\n",
       "├─────────────────────────────────┼────────────────────────┼───────────────┤\n",
       "│ block1_conv1 (<span style=\"color: #0087ff; text-decoration-color: #0087ff\">Conv2D</span>)           │ (<span style=\"color: #00d7ff; text-decoration-color: #00d7ff\">None</span>, <span style=\"color: #00af00; text-decoration-color: #00af00\">150</span>, <span style=\"color: #00af00; text-decoration-color: #00af00\">150</span>, <span style=\"color: #00af00; text-decoration-color: #00af00\">64</span>)   │         <span style=\"color: #00af00; text-decoration-color: #00af00\">1,792</span> │\n",
       "├─────────────────────────────────┼────────────────────────┼───────────────┤\n",
       "│ block1_conv2 (<span style=\"color: #0087ff; text-decoration-color: #0087ff\">Conv2D</span>)           │ (<span style=\"color: #00d7ff; text-decoration-color: #00d7ff\">None</span>, <span style=\"color: #00af00; text-decoration-color: #00af00\">150</span>, <span style=\"color: #00af00; text-decoration-color: #00af00\">150</span>, <span style=\"color: #00af00; text-decoration-color: #00af00\">64</span>)   │        <span style=\"color: #00af00; text-decoration-color: #00af00\">36,928</span> │\n",
       "├─────────────────────────────────┼────────────────────────┼───────────────┤\n",
       "│ block1_pool (<span style=\"color: #0087ff; text-decoration-color: #0087ff\">MaxPooling2D</span>)      │ (<span style=\"color: #00d7ff; text-decoration-color: #00d7ff\">None</span>, <span style=\"color: #00af00; text-decoration-color: #00af00\">75</span>, <span style=\"color: #00af00; text-decoration-color: #00af00\">75</span>, <span style=\"color: #00af00; text-decoration-color: #00af00\">64</span>)     │             <span style=\"color: #00af00; text-decoration-color: #00af00\">0</span> │\n",
       "├─────────────────────────────────┼────────────────────────┼───────────────┤\n",
       "│ block2_conv1 (<span style=\"color: #0087ff; text-decoration-color: #0087ff\">Conv2D</span>)           │ (<span style=\"color: #00d7ff; text-decoration-color: #00d7ff\">None</span>, <span style=\"color: #00af00; text-decoration-color: #00af00\">75</span>, <span style=\"color: #00af00; text-decoration-color: #00af00\">75</span>, <span style=\"color: #00af00; text-decoration-color: #00af00\">128</span>)    │        <span style=\"color: #00af00; text-decoration-color: #00af00\">73,856</span> │\n",
       "├─────────────────────────────────┼────────────────────────┼───────────────┤\n",
       "│ block2_conv2 (<span style=\"color: #0087ff; text-decoration-color: #0087ff\">Conv2D</span>)           │ (<span style=\"color: #00d7ff; text-decoration-color: #00d7ff\">None</span>, <span style=\"color: #00af00; text-decoration-color: #00af00\">75</span>, <span style=\"color: #00af00; text-decoration-color: #00af00\">75</span>, <span style=\"color: #00af00; text-decoration-color: #00af00\">128</span>)    │       <span style=\"color: #00af00; text-decoration-color: #00af00\">147,584</span> │\n",
       "├─────────────────────────────────┼────────────────────────┼───────────────┤\n",
       "│ block2_pool (<span style=\"color: #0087ff; text-decoration-color: #0087ff\">MaxPooling2D</span>)      │ (<span style=\"color: #00d7ff; text-decoration-color: #00d7ff\">None</span>, <span style=\"color: #00af00; text-decoration-color: #00af00\">37</span>, <span style=\"color: #00af00; text-decoration-color: #00af00\">37</span>, <span style=\"color: #00af00; text-decoration-color: #00af00\">128</span>)    │             <span style=\"color: #00af00; text-decoration-color: #00af00\">0</span> │\n",
       "├─────────────────────────────────┼────────────────────────┼───────────────┤\n",
       "│ block3_conv1 (<span style=\"color: #0087ff; text-decoration-color: #0087ff\">Conv2D</span>)           │ (<span style=\"color: #00d7ff; text-decoration-color: #00d7ff\">None</span>, <span style=\"color: #00af00; text-decoration-color: #00af00\">37</span>, <span style=\"color: #00af00; text-decoration-color: #00af00\">37</span>, <span style=\"color: #00af00; text-decoration-color: #00af00\">256</span>)    │       <span style=\"color: #00af00; text-decoration-color: #00af00\">295,168</span> │\n",
       "├─────────────────────────────────┼────────────────────────┼───────────────┤\n",
       "│ block3_conv2 (<span style=\"color: #0087ff; text-decoration-color: #0087ff\">Conv2D</span>)           │ (<span style=\"color: #00d7ff; text-decoration-color: #00d7ff\">None</span>, <span style=\"color: #00af00; text-decoration-color: #00af00\">37</span>, <span style=\"color: #00af00; text-decoration-color: #00af00\">37</span>, <span style=\"color: #00af00; text-decoration-color: #00af00\">256</span>)    │       <span style=\"color: #00af00; text-decoration-color: #00af00\">590,080</span> │\n",
       "├─────────────────────────────────┼────────────────────────┼───────────────┤\n",
       "│ block3_conv3 (<span style=\"color: #0087ff; text-decoration-color: #0087ff\">Conv2D</span>)           │ (<span style=\"color: #00d7ff; text-decoration-color: #00d7ff\">None</span>, <span style=\"color: #00af00; text-decoration-color: #00af00\">37</span>, <span style=\"color: #00af00; text-decoration-color: #00af00\">37</span>, <span style=\"color: #00af00; text-decoration-color: #00af00\">256</span>)    │       <span style=\"color: #00af00; text-decoration-color: #00af00\">590,080</span> │\n",
       "├─────────────────────────────────┼────────────────────────┼───────────────┤\n",
       "│ block3_pool (<span style=\"color: #0087ff; text-decoration-color: #0087ff\">MaxPooling2D</span>)      │ (<span style=\"color: #00d7ff; text-decoration-color: #00d7ff\">None</span>, <span style=\"color: #00af00; text-decoration-color: #00af00\">18</span>, <span style=\"color: #00af00; text-decoration-color: #00af00\">18</span>, <span style=\"color: #00af00; text-decoration-color: #00af00\">256</span>)    │             <span style=\"color: #00af00; text-decoration-color: #00af00\">0</span> │\n",
       "├─────────────────────────────────┼────────────────────────┼───────────────┤\n",
       "│ block4_conv1 (<span style=\"color: #0087ff; text-decoration-color: #0087ff\">Conv2D</span>)           │ (<span style=\"color: #00d7ff; text-decoration-color: #00d7ff\">None</span>, <span style=\"color: #00af00; text-decoration-color: #00af00\">18</span>, <span style=\"color: #00af00; text-decoration-color: #00af00\">18</span>, <span style=\"color: #00af00; text-decoration-color: #00af00\">512</span>)    │     <span style=\"color: #00af00; text-decoration-color: #00af00\">1,180,160</span> │\n",
       "├─────────────────────────────────┼────────────────────────┼───────────────┤\n",
       "│ block4_conv2 (<span style=\"color: #0087ff; text-decoration-color: #0087ff\">Conv2D</span>)           │ (<span style=\"color: #00d7ff; text-decoration-color: #00d7ff\">None</span>, <span style=\"color: #00af00; text-decoration-color: #00af00\">18</span>, <span style=\"color: #00af00; text-decoration-color: #00af00\">18</span>, <span style=\"color: #00af00; text-decoration-color: #00af00\">512</span>)    │     <span style=\"color: #00af00; text-decoration-color: #00af00\">2,359,808</span> │\n",
       "├─────────────────────────────────┼────────────────────────┼───────────────┤\n",
       "│ block4_conv3 (<span style=\"color: #0087ff; text-decoration-color: #0087ff\">Conv2D</span>)           │ (<span style=\"color: #00d7ff; text-decoration-color: #00d7ff\">None</span>, <span style=\"color: #00af00; text-decoration-color: #00af00\">18</span>, <span style=\"color: #00af00; text-decoration-color: #00af00\">18</span>, <span style=\"color: #00af00; text-decoration-color: #00af00\">512</span>)    │     <span style=\"color: #00af00; text-decoration-color: #00af00\">2,359,808</span> │\n",
       "├─────────────────────────────────┼────────────────────────┼───────────────┤\n",
       "│ block4_pool (<span style=\"color: #0087ff; text-decoration-color: #0087ff\">MaxPooling2D</span>)      │ (<span style=\"color: #00d7ff; text-decoration-color: #00d7ff\">None</span>, <span style=\"color: #00af00; text-decoration-color: #00af00\">9</span>, <span style=\"color: #00af00; text-decoration-color: #00af00\">9</span>, <span style=\"color: #00af00; text-decoration-color: #00af00\">512</span>)      │             <span style=\"color: #00af00; text-decoration-color: #00af00\">0</span> │\n",
       "├─────────────────────────────────┼────────────────────────┼───────────────┤\n",
       "│ block5_conv1 (<span style=\"color: #0087ff; text-decoration-color: #0087ff\">Conv2D</span>)           │ (<span style=\"color: #00d7ff; text-decoration-color: #00d7ff\">None</span>, <span style=\"color: #00af00; text-decoration-color: #00af00\">9</span>, <span style=\"color: #00af00; text-decoration-color: #00af00\">9</span>, <span style=\"color: #00af00; text-decoration-color: #00af00\">512</span>)      │     <span style=\"color: #00af00; text-decoration-color: #00af00\">2,359,808</span> │\n",
       "├─────────────────────────────────┼────────────────────────┼───────────────┤\n",
       "│ block5_conv2 (<span style=\"color: #0087ff; text-decoration-color: #0087ff\">Conv2D</span>)           │ (<span style=\"color: #00d7ff; text-decoration-color: #00d7ff\">None</span>, <span style=\"color: #00af00; text-decoration-color: #00af00\">9</span>, <span style=\"color: #00af00; text-decoration-color: #00af00\">9</span>, <span style=\"color: #00af00; text-decoration-color: #00af00\">512</span>)      │     <span style=\"color: #00af00; text-decoration-color: #00af00\">2,359,808</span> │\n",
       "├─────────────────────────────────┼────────────────────────┼───────────────┤\n",
       "│ block5_conv3 (<span style=\"color: #0087ff; text-decoration-color: #0087ff\">Conv2D</span>)           │ (<span style=\"color: #00d7ff; text-decoration-color: #00d7ff\">None</span>, <span style=\"color: #00af00; text-decoration-color: #00af00\">9</span>, <span style=\"color: #00af00; text-decoration-color: #00af00\">9</span>, <span style=\"color: #00af00; text-decoration-color: #00af00\">512</span>)      │     <span style=\"color: #00af00; text-decoration-color: #00af00\">2,359,808</span> │\n",
       "├─────────────────────────────────┼────────────────────────┼───────────────┤\n",
       "│ block5_pool (<span style=\"color: #0087ff; text-decoration-color: #0087ff\">MaxPooling2D</span>)      │ (<span style=\"color: #00d7ff; text-decoration-color: #00d7ff\">None</span>, <span style=\"color: #00af00; text-decoration-color: #00af00\">4</span>, <span style=\"color: #00af00; text-decoration-color: #00af00\">4</span>, <span style=\"color: #00af00; text-decoration-color: #00af00\">512</span>)      │             <span style=\"color: #00af00; text-decoration-color: #00af00\">0</span> │\n",
       "├─────────────────────────────────┼────────────────────────┼───────────────┤\n",
       "│ global_average_pooling2d        │ (<span style=\"color: #00d7ff; text-decoration-color: #00d7ff\">None</span>, <span style=\"color: #00af00; text-decoration-color: #00af00\">512</span>)            │             <span style=\"color: #00af00; text-decoration-color: #00af00\">0</span> │\n",
       "│ (<span style=\"color: #0087ff; text-decoration-color: #0087ff\">GlobalAveragePooling2D</span>)        │                        │               │\n",
       "├─────────────────────────────────┼────────────────────────┼───────────────┤\n",
       "│ batch_normalization             │ (<span style=\"color: #00d7ff; text-decoration-color: #00d7ff\">None</span>, <span style=\"color: #00af00; text-decoration-color: #00af00\">512</span>)            │         <span style=\"color: #00af00; text-decoration-color: #00af00\">2,048</span> │\n",
       "│ (<span style=\"color: #0087ff; text-decoration-color: #0087ff\">BatchNormalization</span>)            │                        │               │\n",
       "├─────────────────────────────────┼────────────────────────┼───────────────┤\n",
       "│ dense (<span style=\"color: #0087ff; text-decoration-color: #0087ff\">Dense</span>)                   │ (<span style=\"color: #00d7ff; text-decoration-color: #00d7ff\">None</span>, <span style=\"color: #00af00; text-decoration-color: #00af00\">256</span>)            │       <span style=\"color: #00af00; text-decoration-color: #00af00\">131,328</span> │\n",
       "├─────────────────────────────────┼────────────────────────┼───────────────┤\n",
       "│ dropout (<span style=\"color: #0087ff; text-decoration-color: #0087ff\">Dropout</span>)               │ (<span style=\"color: #00d7ff; text-decoration-color: #00d7ff\">None</span>, <span style=\"color: #00af00; text-decoration-color: #00af00\">256</span>)            │             <span style=\"color: #00af00; text-decoration-color: #00af00\">0</span> │\n",
       "├─────────────────────────────────┼────────────────────────┼───────────────┤\n",
       "│ dense_1 (<span style=\"color: #0087ff; text-decoration-color: #0087ff\">Dense</span>)                 │ (<span style=\"color: #00d7ff; text-decoration-color: #00d7ff\">None</span>, <span style=\"color: #00af00; text-decoration-color: #00af00\">128</span>)            │        <span style=\"color: #00af00; text-decoration-color: #00af00\">32,896</span> │\n",
       "├─────────────────────────────────┼────────────────────────┼───────────────┤\n",
       "│ dropout_1 (<span style=\"color: #0087ff; text-decoration-color: #0087ff\">Dropout</span>)             │ (<span style=\"color: #00d7ff; text-decoration-color: #00d7ff\">None</span>, <span style=\"color: #00af00; text-decoration-color: #00af00\">128</span>)            │             <span style=\"color: #00af00; text-decoration-color: #00af00\">0</span> │\n",
       "├─────────────────────────────────┼────────────────────────┼───────────────┤\n",
       "│ dense_2 (<span style=\"color: #0087ff; text-decoration-color: #0087ff\">Dense</span>)                 │ (<span style=\"color: #00d7ff; text-decoration-color: #00d7ff\">None</span>, <span style=\"color: #00af00; text-decoration-color: #00af00\">3</span>)              │           <span style=\"color: #00af00; text-decoration-color: #00af00\">387</span> │\n",
       "└─────────────────────────────────┴────────────────────────┴───────────────┘\n",
       "</pre>\n"
      ],
      "text/plain": [
       "┏━━━━━━━━━━━━━━━━━━━━━━━━━━━━━━━━━┳━━━━━━━━━━━━━━━━━━━━━━━━┳━━━━━━━━━━━━━━━┓\n",
       "┃\u001B[1m \u001B[0m\u001B[1mLayer (type)                   \u001B[0m\u001B[1m \u001B[0m┃\u001B[1m \u001B[0m\u001B[1mOutput Shape          \u001B[0m\u001B[1m \u001B[0m┃\u001B[1m \u001B[0m\u001B[1m      Param #\u001B[0m\u001B[1m \u001B[0m┃\n",
       "┡━━━━━━━━━━━━━━━━━━━━━━━━━━━━━━━━━╇━━━━━━━━━━━━━━━━━━━━━━━━╇━━━━━━━━━━━━━━━┩\n",
       "│ input_layer (\u001B[38;5;33mInputLayer\u001B[0m)        │ (\u001B[38;5;45mNone\u001B[0m, \u001B[38;5;34m150\u001B[0m, \u001B[38;5;34m150\u001B[0m, \u001B[38;5;34m3\u001B[0m)    │             \u001B[38;5;34m0\u001B[0m │\n",
       "├─────────────────────────────────┼────────────────────────┼───────────────┤\n",
       "│ block1_conv1 (\u001B[38;5;33mConv2D\u001B[0m)           │ (\u001B[38;5;45mNone\u001B[0m, \u001B[38;5;34m150\u001B[0m, \u001B[38;5;34m150\u001B[0m, \u001B[38;5;34m64\u001B[0m)   │         \u001B[38;5;34m1,792\u001B[0m │\n",
       "├─────────────────────────────────┼────────────────────────┼───────────────┤\n",
       "│ block1_conv2 (\u001B[38;5;33mConv2D\u001B[0m)           │ (\u001B[38;5;45mNone\u001B[0m, \u001B[38;5;34m150\u001B[0m, \u001B[38;5;34m150\u001B[0m, \u001B[38;5;34m64\u001B[0m)   │        \u001B[38;5;34m36,928\u001B[0m │\n",
       "├─────────────────────────────────┼────────────────────────┼───────────────┤\n",
       "│ block1_pool (\u001B[38;5;33mMaxPooling2D\u001B[0m)      │ (\u001B[38;5;45mNone\u001B[0m, \u001B[38;5;34m75\u001B[0m, \u001B[38;5;34m75\u001B[0m, \u001B[38;5;34m64\u001B[0m)     │             \u001B[38;5;34m0\u001B[0m │\n",
       "├─────────────────────────────────┼────────────────────────┼───────────────┤\n",
       "│ block2_conv1 (\u001B[38;5;33mConv2D\u001B[0m)           │ (\u001B[38;5;45mNone\u001B[0m, \u001B[38;5;34m75\u001B[0m, \u001B[38;5;34m75\u001B[0m, \u001B[38;5;34m128\u001B[0m)    │        \u001B[38;5;34m73,856\u001B[0m │\n",
       "├─────────────────────────────────┼────────────────────────┼───────────────┤\n",
       "│ block2_conv2 (\u001B[38;5;33mConv2D\u001B[0m)           │ (\u001B[38;5;45mNone\u001B[0m, \u001B[38;5;34m75\u001B[0m, \u001B[38;5;34m75\u001B[0m, \u001B[38;5;34m128\u001B[0m)    │       \u001B[38;5;34m147,584\u001B[0m │\n",
       "├─────────────────────────────────┼────────────────────────┼───────────────┤\n",
       "│ block2_pool (\u001B[38;5;33mMaxPooling2D\u001B[0m)      │ (\u001B[38;5;45mNone\u001B[0m, \u001B[38;5;34m37\u001B[0m, \u001B[38;5;34m37\u001B[0m, \u001B[38;5;34m128\u001B[0m)    │             \u001B[38;5;34m0\u001B[0m │\n",
       "├─────────────────────────────────┼────────────────────────┼───────────────┤\n",
       "│ block3_conv1 (\u001B[38;5;33mConv2D\u001B[0m)           │ (\u001B[38;5;45mNone\u001B[0m, \u001B[38;5;34m37\u001B[0m, \u001B[38;5;34m37\u001B[0m, \u001B[38;5;34m256\u001B[0m)    │       \u001B[38;5;34m295,168\u001B[0m │\n",
       "├─────────────────────────────────┼────────────────────────┼───────────────┤\n",
       "│ block3_conv2 (\u001B[38;5;33mConv2D\u001B[0m)           │ (\u001B[38;5;45mNone\u001B[0m, \u001B[38;5;34m37\u001B[0m, \u001B[38;5;34m37\u001B[0m, \u001B[38;5;34m256\u001B[0m)    │       \u001B[38;5;34m590,080\u001B[0m │\n",
       "├─────────────────────────────────┼────────────────────────┼───────────────┤\n",
       "│ block3_conv3 (\u001B[38;5;33mConv2D\u001B[0m)           │ (\u001B[38;5;45mNone\u001B[0m, \u001B[38;5;34m37\u001B[0m, \u001B[38;5;34m37\u001B[0m, \u001B[38;5;34m256\u001B[0m)    │       \u001B[38;5;34m590,080\u001B[0m │\n",
       "├─────────────────────────────────┼────────────────────────┼───────────────┤\n",
       "│ block3_pool (\u001B[38;5;33mMaxPooling2D\u001B[0m)      │ (\u001B[38;5;45mNone\u001B[0m, \u001B[38;5;34m18\u001B[0m, \u001B[38;5;34m18\u001B[0m, \u001B[38;5;34m256\u001B[0m)    │             \u001B[38;5;34m0\u001B[0m │\n",
       "├─────────────────────────────────┼────────────────────────┼───────────────┤\n",
       "│ block4_conv1 (\u001B[38;5;33mConv2D\u001B[0m)           │ (\u001B[38;5;45mNone\u001B[0m, \u001B[38;5;34m18\u001B[0m, \u001B[38;5;34m18\u001B[0m, \u001B[38;5;34m512\u001B[0m)    │     \u001B[38;5;34m1,180,160\u001B[0m │\n",
       "├─────────────────────────────────┼────────────────────────┼───────────────┤\n",
       "│ block4_conv2 (\u001B[38;5;33mConv2D\u001B[0m)           │ (\u001B[38;5;45mNone\u001B[0m, \u001B[38;5;34m18\u001B[0m, \u001B[38;5;34m18\u001B[0m, \u001B[38;5;34m512\u001B[0m)    │     \u001B[38;5;34m2,359,808\u001B[0m │\n",
       "├─────────────────────────────────┼────────────────────────┼───────────────┤\n",
       "│ block4_conv3 (\u001B[38;5;33mConv2D\u001B[0m)           │ (\u001B[38;5;45mNone\u001B[0m, \u001B[38;5;34m18\u001B[0m, \u001B[38;5;34m18\u001B[0m, \u001B[38;5;34m512\u001B[0m)    │     \u001B[38;5;34m2,359,808\u001B[0m │\n",
       "├─────────────────────────────────┼────────────────────────┼───────────────┤\n",
       "│ block4_pool (\u001B[38;5;33mMaxPooling2D\u001B[0m)      │ (\u001B[38;5;45mNone\u001B[0m, \u001B[38;5;34m9\u001B[0m, \u001B[38;5;34m9\u001B[0m, \u001B[38;5;34m512\u001B[0m)      │             \u001B[38;5;34m0\u001B[0m │\n",
       "├─────────────────────────────────┼────────────────────────┼───────────────┤\n",
       "│ block5_conv1 (\u001B[38;5;33mConv2D\u001B[0m)           │ (\u001B[38;5;45mNone\u001B[0m, \u001B[38;5;34m9\u001B[0m, \u001B[38;5;34m9\u001B[0m, \u001B[38;5;34m512\u001B[0m)      │     \u001B[38;5;34m2,359,808\u001B[0m │\n",
       "├─────────────────────────────────┼────────────────────────┼───────────────┤\n",
       "│ block5_conv2 (\u001B[38;5;33mConv2D\u001B[0m)           │ (\u001B[38;5;45mNone\u001B[0m, \u001B[38;5;34m9\u001B[0m, \u001B[38;5;34m9\u001B[0m, \u001B[38;5;34m512\u001B[0m)      │     \u001B[38;5;34m2,359,808\u001B[0m │\n",
       "├─────────────────────────────────┼────────────────────────┼───────────────┤\n",
       "│ block5_conv3 (\u001B[38;5;33mConv2D\u001B[0m)           │ (\u001B[38;5;45mNone\u001B[0m, \u001B[38;5;34m9\u001B[0m, \u001B[38;5;34m9\u001B[0m, \u001B[38;5;34m512\u001B[0m)      │     \u001B[38;5;34m2,359,808\u001B[0m │\n",
       "├─────────────────────────────────┼────────────────────────┼───────────────┤\n",
       "│ block5_pool (\u001B[38;5;33mMaxPooling2D\u001B[0m)      │ (\u001B[38;5;45mNone\u001B[0m, \u001B[38;5;34m4\u001B[0m, \u001B[38;5;34m4\u001B[0m, \u001B[38;5;34m512\u001B[0m)      │             \u001B[38;5;34m0\u001B[0m │\n",
       "├─────────────────────────────────┼────────────────────────┼───────────────┤\n",
       "│ global_average_pooling2d        │ (\u001B[38;5;45mNone\u001B[0m, \u001B[38;5;34m512\u001B[0m)            │             \u001B[38;5;34m0\u001B[0m │\n",
       "│ (\u001B[38;5;33mGlobalAveragePooling2D\u001B[0m)        │                        │               │\n",
       "├─────────────────────────────────┼────────────────────────┼───────────────┤\n",
       "│ batch_normalization             │ (\u001B[38;5;45mNone\u001B[0m, \u001B[38;5;34m512\u001B[0m)            │         \u001B[38;5;34m2,048\u001B[0m │\n",
       "│ (\u001B[38;5;33mBatchNormalization\u001B[0m)            │                        │               │\n",
       "├─────────────────────────────────┼────────────────────────┼───────────────┤\n",
       "│ dense (\u001B[38;5;33mDense\u001B[0m)                   │ (\u001B[38;5;45mNone\u001B[0m, \u001B[38;5;34m256\u001B[0m)            │       \u001B[38;5;34m131,328\u001B[0m │\n",
       "├─────────────────────────────────┼────────────────────────┼───────────────┤\n",
       "│ dropout (\u001B[38;5;33mDropout\u001B[0m)               │ (\u001B[38;5;45mNone\u001B[0m, \u001B[38;5;34m256\u001B[0m)            │             \u001B[38;5;34m0\u001B[0m │\n",
       "├─────────────────────────────────┼────────────────────────┼───────────────┤\n",
       "│ dense_1 (\u001B[38;5;33mDense\u001B[0m)                 │ (\u001B[38;5;45mNone\u001B[0m, \u001B[38;5;34m128\u001B[0m)            │        \u001B[38;5;34m32,896\u001B[0m │\n",
       "├─────────────────────────────────┼────────────────────────┼───────────────┤\n",
       "│ dropout_1 (\u001B[38;5;33mDropout\u001B[0m)             │ (\u001B[38;5;45mNone\u001B[0m, \u001B[38;5;34m128\u001B[0m)            │             \u001B[38;5;34m0\u001B[0m │\n",
       "├─────────────────────────────────┼────────────────────────┼───────────────┤\n",
       "│ dense_2 (\u001B[38;5;33mDense\u001B[0m)                 │ (\u001B[38;5;45mNone\u001B[0m, \u001B[38;5;34m3\u001B[0m)              │           \u001B[38;5;34m387\u001B[0m │\n",
       "└─────────────────────────────────┴────────────────────────┴───────────────┘\n"
      ]
     },
     "metadata": {},
     "output_type": "display_data"
    },
    {
     "data": {
      "text/html": [
       "<pre style=\"white-space:pre;overflow-x:auto;line-height:normal;font-family:Menlo,'DejaVu Sans Mono',consolas,'Courier New',monospace\"><span style=\"font-weight: bold\"> Total params: </span><span style=\"color: #00af00; text-decoration-color: #00af00\">14,881,347</span> (56.77 MB)\n",
       "</pre>\n"
      ],
      "text/plain": [
       "\u001B[1m Total params: \u001B[0m\u001B[38;5;34m14,881,347\u001B[0m (56.77 MB)\n"
      ]
     },
     "metadata": {},
     "output_type": "display_data"
    },
    {
     "data": {
      "text/html": [
       "<pre style=\"white-space:pre;overflow-x:auto;line-height:normal;font-family:Menlo,'DejaVu Sans Mono',consolas,'Courier New',monospace\"><span style=\"font-weight: bold\"> Trainable params: </span><span style=\"color: #00af00; text-decoration-color: #00af00\">165,635</span> (647.01 KB)\n",
       "</pre>\n"
      ],
      "text/plain": [
       "\u001B[1m Trainable params: \u001B[0m\u001B[38;5;34m165,635\u001B[0m (647.01 KB)\n"
      ]
     },
     "metadata": {},
     "output_type": "display_data"
    },
    {
     "data": {
      "text/html": [
       "<pre style=\"white-space:pre;overflow-x:auto;line-height:normal;font-family:Menlo,'DejaVu Sans Mono',consolas,'Courier New',monospace\"><span style=\"font-weight: bold\"> Non-trainable params: </span><span style=\"color: #00af00; text-decoration-color: #00af00\">14,715,712</span> (56.14 MB)\n",
       "</pre>\n"
      ],
      "text/plain": [
       "\u001B[1m Non-trainable params: \u001B[0m\u001B[38;5;34m14,715,712\u001B[0m (56.14 MB)\n"
      ]
     },
     "metadata": {},
     "output_type": "display_data"
    }
   ],
   "source": [
    "\n",
    "def create_resnet_transfer_model(input_shape=(150, 150, 3), num_classes=3):\n",
    "    base_model = VGG16(include_top=False, weights='imagenet', input_shape=input_shape)\n",
    "\n",
    "    # Freeze base initially\n",
    "    for layer in base_model.layers:\n",
    "        layer.trainable = False\n",
    "\n",
    "    x = base_model.output\n",
    "    x = GlobalAveragePooling2D()(x)\n",
    "    x = BatchNormalization()(x)\n",
    "    x = Dense(256, activation='swish')(x)\n",
    "    x = Dropout(0.5)(x)\n",
    "    x = Dense(128, activation='swish')(x)\n",
    "    x = Dropout(0.5)(x)\n",
    "    predictions = Dense(num_classes, activation='softmax')(x)\n",
    "\n",
    "    model = Model(inputs=base_model.input, outputs=predictions)\n",
    "\n",
    "    return model\n",
    "\n",
    "\n",
    "model = create_resnet_transfer_model()\n",
    "model.compile(optimizer=Adam(learning_rate=1e-4),\n",
    "              loss='categorical_crossentropy',\n",
    "              metrics=['accuracy'])\n",
    "model.summary()\n"
   ]
  },
  {
   "cell_type": "code",
   "execution_count": 6,
   "id": "a95078e5523aa319",
   "metadata": {},
   "outputs": [
    {
     "name": "stderr",
     "output_type": "stream",
     "text": [
      "/usr/local/lib/python3.11/dist-packages/keras/src/trainers/data_adapters/py_dataset_adapter.py:121: UserWarning: Your `PyDataset` class should call `super().__init__(**kwargs)` in its constructor. `**kwargs` can include `workers`, `use_multiprocessing`, `max_queue_size`. Do not pass these arguments to `fit()`, as they will be ignored.\n",
      "  self._warn_if_super_not_called()\n"
     ]
    },
    {
     "name": "stdout",
     "output_type": "stream",
     "text": [
      "Epoch 1/50\n"
     ]
    },
    {
     "name": "stderr",
     "output_type": "stream",
     "text": [
      "WARNING: All log messages before absl::InitializeLog() is called are written to STDERR\n",
      "I0000 00:00:1744090303.386233    2839 service.cc:148] XLA service 0x7f266c0125c0 initialized for platform CUDA (this does not guarantee that XLA will be used). Devices:\n",
      "I0000 00:00:1744090303.386276    2839 service.cc:156]   StreamExecutor device (0): NVIDIA GeForce RTX 3050 6GB Laptop GPU, Compute Capability 8.6\n",
      "I0000 00:00:1744090303.673621    2839 cuda_dnn.cc:529] Loaded cuDNN version 90300\n"
     ]
    },
    {
     "name": "stdout",
     "output_type": "stream",
     "text": [
      "\u001B[1m  2/469\u001B[0m \u001B[37m━━━━━━━━━━━━━━━━━━━━\u001B[0m \u001B[1m28s\u001B[0m 61ms/step - accuracy: 0.2656 - loss: 1.4039  "
     ]
    },
    {
     "name": "stderr",
     "output_type": "stream",
     "text": [
      "I0000 00:00:1744090310.124431    2839 device_compiler.h:188] Compiled cluster using XLA!  This line is logged at most once for the lifetime of the process.\n"
     ]
    },
    {
     "name": "stdout",
     "output_type": "stream",
     "text": [
      "\u001B[1m469/469\u001B[0m \u001B[32m━━━━━━━━━━━━━━━━━━━━\u001B[0m\u001B[37m\u001B[0m \u001B[1m188s\u001B[0m 384ms/step - accuracy: 0.4626 - loss: 1.1080 - val_accuracy: 0.8553 - val_loss: 0.4246 - learning_rate: 1.0000e-04\n",
      "Epoch 2/50\n",
      "\u001B[1m469/469\u001B[0m \u001B[32m━━━━━━━━━━━━━━━━━━━━\u001B[0m\u001B[37m\u001B[0m \u001B[1m172s\u001B[0m 366ms/step - accuracy: 0.6307 - loss: 0.7547 - val_accuracy: 0.8780 - val_loss: 0.3142 - learning_rate: 1.0000e-04\n",
      "Epoch 3/50\n",
      "\u001B[1m469/469\u001B[0m \u001B[32m━━━━━━━━━━━━━━━━━━━━\u001B[0m\u001B[37m\u001B[0m \u001B[1m178s\u001B[0m 380ms/step - accuracy: 0.6515 - loss: 0.7013 - val_accuracy: 0.8960 - val_loss: 0.2725 - learning_rate: 1.0000e-04\n",
      "Epoch 4/50\n",
      "\u001B[1m469/469\u001B[0m \u001B[32m━━━━━━━━━━━━━━━━━━━━\u001B[0m\u001B[37m\u001B[0m \u001B[1m175s\u001B[0m 373ms/step - accuracy: 0.6595 - loss: 0.6701 - val_accuracy: 0.9023 - val_loss: 0.2463 - learning_rate: 1.0000e-04\n",
      "Epoch 5/50\n",
      "\u001B[1m469/469\u001B[0m \u001B[32m━━━━━━━━━━━━━━━━━━━━\u001B[0m\u001B[37m\u001B[0m \u001B[1m175s\u001B[0m 373ms/step - accuracy: 0.6645 - loss: 0.6576 - val_accuracy: 0.9060 - val_loss: 0.2346 - learning_rate: 1.0000e-04\n",
      "Epoch 6/50\n",
      "\u001B[1m469/469\u001B[0m \u001B[32m━━━━━━━━━━━━━━━━━━━━\u001B[0m\u001B[37m\u001B[0m \u001B[1m178s\u001B[0m 379ms/step - accuracy: 0.6811 - loss: 0.6447 - val_accuracy: 0.9113 - val_loss: 0.2239 - learning_rate: 1.0000e-04\n",
      "Epoch 7/50\n",
      "\u001B[1m469/469\u001B[0m \u001B[32m━━━━━━━━━━━━━━━━━━━━\u001B[0m\u001B[37m\u001B[0m \u001B[1m175s\u001B[0m 372ms/step - accuracy: 0.6789 - loss: 0.6270 - val_accuracy: 0.9140 - val_loss: 0.2180 - learning_rate: 1.0000e-04\n",
      "Epoch 8/50\n",
      "\u001B[1m469/469\u001B[0m \u001B[32m━━━━━━━━━━━━━━━━━━━━\u001B[0m\u001B[37m\u001B[0m \u001B[1m173s\u001B[0m 370ms/step - accuracy: 0.6892 - loss: 0.6113 - val_accuracy: 0.9133 - val_loss: 0.2137 - learning_rate: 1.0000e-04\n",
      "Epoch 9/50\n",
      "\u001B[1m469/469\u001B[0m \u001B[32m━━━━━━━━━━━━━━━━━━━━\u001B[0m\u001B[37m\u001B[0m \u001B[1m173s\u001B[0m 369ms/step - accuracy: 0.6879 - loss: 0.6258 - val_accuracy: 0.9157 - val_loss: 0.2099 - learning_rate: 1.0000e-04\n",
      "Epoch 10/50\n",
      "\u001B[1m469/469\u001B[0m \u001B[32m━━━━━━━━━━━━━━━━━━━━\u001B[0m\u001B[37m\u001B[0m \u001B[1m174s\u001B[0m 370ms/step - accuracy: 0.6871 - loss: 0.6155 - val_accuracy: 0.9193 - val_loss: 0.2042 - learning_rate: 1.0000e-04\n",
      "Epoch 11/50\n",
      "\u001B[1m469/469\u001B[0m \u001B[32m━━━━━━━━━━━━━━━━━━━━\u001B[0m\u001B[37m\u001B[0m \u001B[1m175s\u001B[0m 372ms/step - accuracy: 0.7031 - loss: 0.5882 - val_accuracy: 0.9207 - val_loss: 0.2023 - learning_rate: 1.0000e-04\n",
      "Epoch 12/50\n",
      "\u001B[1m469/469\u001B[0m \u001B[32m━━━━━━━━━━━━━━━━━━━━\u001B[0m\u001B[37m\u001B[0m \u001B[1m174s\u001B[0m 371ms/step - accuracy: 0.6976 - loss: 0.5872 - val_accuracy: 0.9207 - val_loss: 0.1987 - learning_rate: 1.0000e-04\n",
      "Epoch 13/50\n",
      "\u001B[1m469/469\u001B[0m \u001B[32m━━━━━━━━━━━━━━━━━━━━\u001B[0m\u001B[37m\u001B[0m \u001B[1m173s\u001B[0m 370ms/step - accuracy: 0.7038 - loss: 0.5762 - val_accuracy: 0.9190 - val_loss: 0.2024 - learning_rate: 1.0000e-04\n",
      "Epoch 14/50\n",
      "\u001B[1m469/469\u001B[0m \u001B[32m━━━━━━━━━━━━━━━━━━━━\u001B[0m\u001B[37m\u001B[0m \u001B[1m174s\u001B[0m 372ms/step - accuracy: 0.7011 - loss: 0.5869 - val_accuracy: 0.9220 - val_loss: 0.1936 - learning_rate: 1.0000e-04\n",
      "Epoch 15/50\n",
      "\u001B[1m469/469\u001B[0m \u001B[32m━━━━━━━━━━━━━━━━━━━━\u001B[0m\u001B[37m\u001B[0m \u001B[1m173s\u001B[0m 369ms/step - accuracy: 0.7002 - loss: 0.5831 - val_accuracy: 0.9220 - val_loss: 0.1954 - learning_rate: 1.0000e-04\n",
      "Epoch 16/50\n",
      "\u001B[1m469/469\u001B[0m \u001B[32m━━━━━━━━━━━━━━━━━━━━\u001B[0m\u001B[37m\u001B[0m \u001B[1m175s\u001B[0m 372ms/step - accuracy: 0.6994 - loss: 0.5808 - val_accuracy: 0.9230 - val_loss: 0.1924 - learning_rate: 1.0000e-04\n",
      "Epoch 17/50\n",
      "\u001B[1m469/469\u001B[0m \u001B[32m━━━━━━━━━━━━━━━━━━━━\u001B[0m\u001B[37m\u001B[0m \u001B[1m174s\u001B[0m 371ms/step - accuracy: 0.7116 - loss: 0.5731 - val_accuracy: 0.9227 - val_loss: 0.1919 - learning_rate: 1.0000e-04\n",
      "Epoch 18/50\n",
      "\u001B[1m469/469\u001B[0m \u001B[32m━━━━━━━━━━━━━━━━━━━━\u001B[0m\u001B[37m\u001B[0m \u001B[1m173s\u001B[0m 369ms/step - accuracy: 0.7043 - loss: 0.5708 - val_accuracy: 0.9227 - val_loss: 0.1915 - learning_rate: 1.0000e-04\n",
      "Epoch 19/50\n",
      "\u001B[1m469/469\u001B[0m \u001B[32m━━━━━━━━━━━━━━━━━━━━\u001B[0m\u001B[37m\u001B[0m \u001B[1m174s\u001B[0m 371ms/step - accuracy: 0.6963 - loss: 0.5782 - val_accuracy: 0.9233 - val_loss: 0.1888 - learning_rate: 1.0000e-04\n",
      "Epoch 20/50\n",
      "\u001B[1m469/469\u001B[0m \u001B[32m━━━━━━━━━━━━━━━━━━━━\u001B[0m\u001B[37m\u001B[0m \u001B[1m175s\u001B[0m 372ms/step - accuracy: 0.7012 - loss: 0.5703 - val_accuracy: 0.9237 - val_loss: 0.1837 - learning_rate: 1.0000e-04\n",
      "Epoch 21/50\n",
      "\u001B[1m469/469\u001B[0m \u001B[32m━━━━━━━━━━━━━━━━━━━━\u001B[0m\u001B[37m\u001B[0m \u001B[1m174s\u001B[0m 371ms/step - accuracy: 0.6995 - loss: 0.5820 - val_accuracy: 0.9237 - val_loss: 0.1848 - learning_rate: 1.0000e-04\n",
      "Epoch 22/50\n",
      "\u001B[1m469/469\u001B[0m \u001B[32m━━━━━━━━━━━━━━━━━━━━\u001B[0m\u001B[37m\u001B[0m \u001B[1m175s\u001B[0m 372ms/step - accuracy: 0.7108 - loss: 0.5695 - val_accuracy: 0.9270 - val_loss: 0.1819 - learning_rate: 1.0000e-04\n",
      "Epoch 23/50\n",
      "\u001B[1m469/469\u001B[0m \u001B[32m━━━━━━━━━━━━━━━━━━━━\u001B[0m\u001B[37m\u001B[0m \u001B[1m176s\u001B[0m 375ms/step - accuracy: 0.7090 - loss: 0.5603 - val_accuracy: 0.9257 - val_loss: 0.1839 - learning_rate: 1.0000e-04\n",
      "Epoch 24/50\n",
      "\u001B[1m469/469\u001B[0m \u001B[32m━━━━━━━━━━━━━━━━━━━━\u001B[0m\u001B[37m\u001B[0m \u001B[1m0s\u001B[0m 332ms/step - accuracy: 0.7080 - loss: 0.5579\n",
      "Epoch 24: ReduceLROnPlateau reducing learning rate to 4.999999873689376e-05.\n",
      "\u001B[1m469/469\u001B[0m \u001B[32m━━━━━━━━━━━━━━━━━━━━\u001B[0m\u001B[37m\u001B[0m \u001B[1m175s\u001B[0m 373ms/step - accuracy: 0.7079 - loss: 0.5579 - val_accuracy: 0.9270 - val_loss: 0.1819 - learning_rate: 1.0000e-04\n",
      "Epoch 25/50\n",
      "\u001B[1m469/469\u001B[0m \u001B[32m━━━━━━━━━━━━━━━━━━━━\u001B[0m\u001B[37m\u001B[0m \u001B[1m175s\u001B[0m 373ms/step - accuracy: 0.7138 - loss: 0.5535 - val_accuracy: 0.9267 - val_loss: 0.1803 - learning_rate: 5.0000e-05\n",
      "Epoch 26/50\n",
      "\u001B[1m469/469\u001B[0m \u001B[32m━━━━━━━━━━━━━━━━━━━━\u001B[0m\u001B[37m\u001B[0m \u001B[1m175s\u001B[0m 373ms/step - accuracy: 0.7174 - loss: 0.5531 - val_accuracy: 0.9280 - val_loss: 0.1783 - learning_rate: 5.0000e-05\n",
      "Epoch 27/50\n",
      "\u001B[1m469/469\u001B[0m \u001B[32m━━━━━━━━━━━━━━━━━━━━\u001B[0m\u001B[37m\u001B[0m \u001B[1m175s\u001B[0m 372ms/step - accuracy: 0.7149 - loss: 0.5490 - val_accuracy: 0.9293 - val_loss: 0.1757 - learning_rate: 5.0000e-05\n",
      "Epoch 28/50\n",
      "\u001B[1m469/469\u001B[0m \u001B[32m━━━━━━━━━━━━━━━━━━━━\u001B[0m\u001B[37m\u001B[0m \u001B[1m176s\u001B[0m 374ms/step - accuracy: 0.7085 - loss: 0.5674 - val_accuracy: 0.9283 - val_loss: 0.1766 - learning_rate: 5.0000e-05\n",
      "Epoch 29/50\n",
      "\u001B[1m469/469\u001B[0m \u001B[32m━━━━━━━━━━━━━━━━━━━━\u001B[0m\u001B[37m\u001B[0m \u001B[1m0s\u001B[0m 337ms/step - accuracy: 0.7207 - loss: 0.5512\n",
      "Epoch 29: ReduceLROnPlateau reducing learning rate to 2.499999936844688e-05.\n",
      "\u001B[1m469/469\u001B[0m \u001B[32m━━━━━━━━━━━━━━━━━━━━\u001B[0m\u001B[37m\u001B[0m \u001B[1m177s\u001B[0m 378ms/step - accuracy: 0.7206 - loss: 0.5512 - val_accuracy: 0.9267 - val_loss: 0.1757 - learning_rate: 5.0000e-05\n",
      "Epoch 30/50\n",
      "\u001B[1m469/469\u001B[0m \u001B[32m━━━━━━━━━━━━━━━━━━━━\u001B[0m\u001B[37m\u001B[0m \u001B[1m174s\u001B[0m 371ms/step - accuracy: 0.7088 - loss: 0.5558 - val_accuracy: 0.9290 - val_loss: 0.1775 - learning_rate: 2.5000e-05\n",
      "Epoch 31/50\n",
      "\u001B[1m469/469\u001B[0m \u001B[32m━━━━━━━━━━━━━━━━━━━━\u001B[0m\u001B[37m\u001B[0m \u001B[1m0s\u001B[0m 333ms/step - accuracy: 0.7212 - loss: 0.5468\n",
      "Epoch 31: ReduceLROnPlateau reducing learning rate to 1.249999968422344e-05.\n",
      "\u001B[1m469/469\u001B[0m \u001B[32m━━━━━━━━━━━━━━━━━━━━\u001B[0m\u001B[37m\u001B[0m \u001B[1m175s\u001B[0m 374ms/step - accuracy: 0.7212 - loss: 0.5468 - val_accuracy: 0.9270 - val_loss: 0.1761 - learning_rate: 2.5000e-05\n",
      "Epoch 32/50\n",
      "\u001B[1m469/469\u001B[0m \u001B[32m━━━━━━━━━━━━━━━━━━━━\u001B[0m\u001B[37m\u001B[0m \u001B[1m175s\u001B[0m 374ms/step - accuracy: 0.6983 - loss: 0.5599 - val_accuracy: 0.9267 - val_loss: 0.1746 - learning_rate: 1.2500e-05\n",
      "Epoch 33/50\n",
      "\u001B[1m469/469\u001B[0m \u001B[32m━━━━━━━━━━━━━━━━━━━━\u001B[0m\u001B[37m\u001B[0m \u001B[1m176s\u001B[0m 376ms/step - accuracy: 0.7084 - loss: 0.5553 - val_accuracy: 0.9293 - val_loss: 0.1766 - learning_rate: 1.2500e-05\n",
      "Epoch 34/50\n",
      "\u001B[1m469/469\u001B[0m \u001B[32m━━━━━━━━━━━━━━━━━━━━\u001B[0m\u001B[37m\u001B[0m \u001B[1m0s\u001B[0m 334ms/step - accuracy: 0.7087 - loss: 0.5626\n",
      "Epoch 34: ReduceLROnPlateau reducing learning rate to 6.24999984211172e-06.\n",
      "\u001B[1m469/469\u001B[0m \u001B[32m━━━━━━━━━━━━━━━━━━━━\u001B[0m\u001B[37m\u001B[0m \u001B[1m176s\u001B[0m 375ms/step - accuracy: 0.7087 - loss: 0.5626 - val_accuracy: 0.9287 - val_loss: 0.1761 - learning_rate: 1.2500e-05\n",
      "Epoch 35/50\n",
      "\u001B[1m469/469\u001B[0m \u001B[32m━━━━━━━━━━━━━━━━━━━━\u001B[0m\u001B[37m\u001B[0m \u001B[1m175s\u001B[0m 372ms/step - accuracy: 0.7090 - loss: 0.5570 - val_accuracy: 0.9277 - val_loss: 0.1764 - learning_rate: 6.2500e-06\n"
     ]
    },
    {
     "name": "stderr",
     "output_type": "stream",
     "text": [
      "WARNING:absl:You are saving your model as an HDF5 file via `model.save()` or `keras.saving.save_model(model)`. This file format is considered legacy. We recommend using instead the native Keras format, e.g. `model.save('my_model.keras')` or `keras.saving.save_model(model, 'my_model.keras')`. \n"
     ]
    },
    {
     "name": "stdout",
     "output_type": "stream",
     "text": [
      "Model and training history saved successfully!\n"
     ]
    }
   ],
   "source": [
    "import pickle\n",
    "from keras.api.callbacks import EarlyStopping, ReduceLROnPlateau\n",
    "\n",
    "# Define early stopping\n",
    "early_stop = EarlyStopping(\n",
    "    monitor='val_loss',       # Metric to monitor\n",
    "    patience=3,               # Stop after 3 epochs without improvement\n",
    "    restore_best_weights=True # Restore weights from the best epoch\n",
    ")\n",
    "reduce_lr = ReduceLROnPlateau(\n",
    "    monitor='val_loss',\n",
    "    factor=0.5,         # Reduce by half\n",
    "    patience=2,         # Wait 2 epochs before reducing\n",
    "    min_lr=1e-6,        # Don't go below this LR\n",
    "    verbose=1\n",
    ")\n",
    "\n",
    "epochs = 50\n",
    "history = model.fit(\n",
    "    training_set,\n",
    "    validation_data=test_set,\n",
    "    epochs=epochs,\n",
    "    callbacks=[early_stop, reduce_lr]   \n",
    ")\n",
    "\n",
    "model.save(\"third_model_da.h5\")\n",
    "with open(\"history3_da.pkl\", \"wb\") as f:\n",
    "    pickle.dump(history.history, f)\n",
    "\n",
    "print(\"Model and training history saved successfully!\")\n"
   ]
  },
  {
   "cell_type": "code",
   "execution_count": 7,
   "id": "0a94f9cd-aa57-4cab-8746-2bbbd1c3d14c",
   "metadata": {},
   "outputs": [
    {
     "data": {
      "image/png": "[encoded data removed]",
      "text/plain": [
       "<Figure size 800x500 with 1 Axes>"
      ]
     },
     "metadata": {},
     "output_type": "display_data"
    }
   ],
   "source": [
    "import matplotlib.pyplot as plt  # ✅ Correct\n",
    "def plot_accuracy(history):\n",
    "    plt.figure(figsize=(8, 5))  # Set figure size\n",
    "    plt.plot(history.history['accuracy'], label='Train Accuracy')\n",
    "    plt.plot(history.history['val_accuracy'], label='Validation Accuracy')\n",
    "    plt.xlabel('Epochs')\n",
    "    plt.ylabel('Accuracy')\n",
    "    plt.title('Model Accuracy')\n",
    "    plt.legend()\n",
    "    plt.grid()\n",
    "    plt.show(block=True)  # Force displayy\n",
    "\n",
    "plot_accuracy(history)"
   ]
  },
  {
   "cell_type": "code",
   "execution_count": 8,
   "id": "3d87f8e5-a84c-4003-9951-18c87bc52f11",
   "metadata": {},
   "outputs": [
    {
     "data": {
      "image/png": "[encoded data removed]",
      "text/plain": [
       "<Figure size 640x480 with 1 Axes>"
      ]
     },
     "metadata": {},
     "output_type": "display_data"
    }
   ],
   "source": [
    "def plot_loss(history):\n",
    "    plt.plot(history.history['loss'], label='Train Loss')\n",
    "    plt.plot(history.history['val_loss'], label='Validation Loss')\n",
    "    plt.xlabel('Epochs')\n",
    "    plt.ylabel('Loss')\n",
    "    plt.title('Model Loss')\n",
    "    plt.legend()\n",
    "    plt.grid()\n",
    "    plt.show()\n",
    "plot_loss(history)"
   ]
  },
  {
   "cell_type": "code",
   "execution_count": 9,
   "id": "dbc9deed-1c57-4dac-a45d-387627624de1",
   "metadata": {},
   "outputs": [
    {
     "name": "stdout",
     "output_type": "stream",
     "text": [
      "\u001B[1m94/94\u001B[0m \u001B[32m━━━━━━━━━━━━━━━━━━━━\u001B[0m\u001B[37m\u001B[0m \u001B[1m20s\u001B[0m 206ms/step - accuracy: 0.8953 - loss: 0.2436\n",
      "\n",
      "🔹 Test Accuracy after initial training: 92.67%\n"
     ]
    }
   ],
   "source": [
    "test_loss, test_accuracy = model.evaluate(test_set)\n",
    "print(f\"\\n🔹 Test Accuracy after initial training: {test_accuracy * 100:.2f}%\")"
   ]
  },
  {
   "cell_type": "code",
   "execution_count": 19,
   "id": "7b02f42d-d771-4533-805b-30c846fa28a5",
   "metadata": {},
   "outputs": [
    {
     "name": "stderr",
     "output_type": "stream",
     "text": [
      "WARNING:absl:Compiled the loaded model, but the compiled metrics have yet to be built. `model.compile_metrics` will be empty until you train or evaluate the model.\n"
     ]
    }
   ],
   "source": [
    "import pickle\n",
    "from keras.api.callbacks import EarlyStopping, ReduceLROnPlateau\n",
    "import tensorflow as tf\n",
    "model = tf.keras.models.load_model('third_model_da.h5')\n",
    "\n",
    "early_stop = EarlyStopping(\n",
    "    monitor='val_loss',       # Metric to monitor\n",
    "    patience=3,               # Stop after 3 epochs without improvement\n",
    "    restore_best_weights=True # Restore weights from the best epoch\n",
    ")\n",
    "reduce_lr = ReduceLROnPlateau(\n",
    "    monitor='val_loss',\n",
    "    factor=0.5,         # Reduce by half\n",
    "    patience=2,         # Wait 2 epochs before reducing\n",
    "    min_lr=1e-6,        # Don't go below this LR\n",
    "    verbose=1\n",
    ")\n",
    "\n",
    "for layer in model.layers:\n",
    "    if 'block5' in layer.name:\n",
    "        layer.trainable = True\n",
    "    elif isinstance(layer, tf.keras.layers.BatchNormalization):\n",
    "        layer.trainable = False  # Optional: Freeze BatchNorm layers\n",
    "\n",
    "model.compile(optimizer=Adam(learning_rate=1e-5),\n",
    "              loss='categorical_crossentropy',\n",
    "              metrics=['accuracy'])\n",
    "\n"
   ]
  },
  {
   "cell_type": "code",
   "execution_count": 20,
   "id": "7f11f94f-22e4-49c2-9189-b7f3d04a0d85",
   "metadata": {},
   "outputs": [
    {
     "name": "stdout",
     "output_type": "stream",
     "text": [
      "Epoch 1/30\n",
      "\u001B[1m469/469\u001B[0m \u001B[32m━━━━━━━━━━━━━━━━━━━━\u001B[0m\u001B[37m\u001B[0m \u001B[1m199s\u001B[0m 412ms/step - accuracy: 0.7318 - loss: 0.5194 - val_accuracy: 0.9443 - val_loss: 0.1490 - learning_rate: 1.0000e-05\n",
      "Epoch 2/30\n",
      "\u001B[1m469/469\u001B[0m \u001B[32m━━━━━━━━━━━━━━━━━━━━\u001B[0m\u001B[37m\u001B[0m \u001B[1m185s\u001B[0m 394ms/step - accuracy: 0.7417 - loss: 0.4913 - val_accuracy: 0.9493 - val_loss: 0.1421 - learning_rate: 1.0000e-05\n",
      "Epoch 3/30\n",
      "\u001B[1m469/469\u001B[0m \u001B[32m━━━━━━━━━━━━━━━━━━━━\u001B[0m\u001B[37m\u001B[0m \u001B[1m187s\u001B[0m 399ms/step - accuracy: 0.7501 - loss: 0.4740 - val_accuracy: 0.9567 - val_loss: 0.1143 - learning_rate: 1.0000e-05\n",
      "Epoch 4/30\n",
      "\u001B[1m469/469\u001B[0m \u001B[32m━━━━━━━━━━━━━━━━━━━━\u001B[0m\u001B[37m\u001B[0m \u001B[1m187s\u001B[0m 398ms/step - accuracy: 0.7546 - loss: 0.4604 - val_accuracy: 0.9580 - val_loss: 0.1130 - learning_rate: 1.0000e-05\n",
      "Epoch 5/30\n",
      "\u001B[1m469/469\u001B[0m \u001B[32m━━━━━━━━━━━━━━━━━━━━\u001B[0m\u001B[37m\u001B[0m \u001B[1m184s\u001B[0m 393ms/step - accuracy: 0.7598 - loss: 0.4431 - val_accuracy: 0.9637 - val_loss: 0.0934 - learning_rate: 1.0000e-05\n",
      "Epoch 6/30\n",
      "\u001B[1m469/469\u001B[0m \u001B[32m━━━━━━━━━━━━━━━━━━━━\u001B[0m\u001B[37m\u001B[0m \u001B[1m179s\u001B[0m 382ms/step - accuracy: 0.7623 - loss: 0.4403 - val_accuracy: 0.9630 - val_loss: 0.0916 - learning_rate: 1.0000e-05\n",
      "Epoch 7/30\n",
      "\u001B[1m469/469\u001B[0m \u001B[32m━━━━━━━━━━━━━━━━━━━━\u001B[0m\u001B[37m\u001B[0m \u001B[1m188s\u001B[0m 400ms/step - accuracy: 0.7758 - loss: 0.4145 - val_accuracy: 0.9677 - val_loss: 0.0901 - learning_rate: 1.0000e-05\n",
      "Epoch 8/30\n",
      "\u001B[1m469/469\u001B[0m \u001B[32m━━━━━━━━━━━━━━━━━━━━\u001B[0m\u001B[37m\u001B[0m \u001B[1m189s\u001B[0m 402ms/step - accuracy: 0.7733 - loss: 0.4213 - val_accuracy: 0.9690 - val_loss: 0.0891 - learning_rate: 1.0000e-05\n",
      "Epoch 9/30\n",
      "\u001B[1m469/469\u001B[0m \u001B[32m━━━━━━━━━━━━━━━━━━━━\u001B[0m\u001B[37m\u001B[0m \u001B[1m196s\u001B[0m 390ms/step - accuracy: 0.7664 - loss: 0.4330 - val_accuracy: 0.9693 - val_loss: 0.0920 - learning_rate: 1.0000e-05\n",
      "Epoch 10/30\n",
      "\u001B[1m469/469\u001B[0m \u001B[32m━━━━━━━━━━━━━━━━━━━━\u001B[0m\u001B[37m\u001B[0m \u001B[1m180s\u001B[0m 383ms/step - accuracy: 0.7786 - loss: 0.4024 - val_accuracy: 0.9723 - val_loss: 0.0774 - learning_rate: 1.0000e-05\n",
      "Epoch 11/30\n",
      "\u001B[1m469/469\u001B[0m \u001B[32m━━━━━━━━━━━━━━━━━━━━\u001B[0m\u001B[37m\u001B[0m \u001B[1m177s\u001B[0m 378ms/step - accuracy: 0.7771 - loss: 0.4092 - val_accuracy: 0.9663 - val_loss: 0.0942 - learning_rate: 1.0000e-05\n",
      "Epoch 12/30\n",
      "\u001B[1m469/469\u001B[0m \u001B[32m━━━━━━━━━━━━━━━━━━━━\u001B[0m\u001B[37m\u001B[0m \u001B[1m0s\u001B[0m 338ms/step - accuracy: 0.7758 - loss: 0.4007\n",
      "Epoch 12: ReduceLROnPlateau reducing learning rate to 4.999999873689376e-06.\n",
      "\u001B[1m469/469\u001B[0m \u001B[32m━━━━━━━━━━━━━━━━━━━━\u001B[0m\u001B[37m\u001B[0m \u001B[1m178s\u001B[0m 379ms/step - accuracy: 0.7758 - loss: 0.4007 - val_accuracy: 0.9703 - val_loss: 0.0842 - learning_rate: 1.0000e-05\n",
      "Epoch 13/30\n",
      "\u001B[1m469/469\u001B[0m \u001B[32m━━━━━━━━━━━━━━━━━━━━\u001B[0m\u001B[37m\u001B[0m \u001B[1m179s\u001B[0m 382ms/step - accuracy: 0.7878 - loss: 0.3900 - val_accuracy: 0.9680 - val_loss: 0.0853 - learning_rate: 5.0000e-06\n"
     ]
    },
    {
     "name": "stderr",
     "output_type": "stream",
     "text": [
      "WARNING:absl:You are saving your model as an HDF5 file via `model.save()` or `keras.saving.save_model(model)`. This file format is considered legacy. We recommend using instead the native Keras format, e.g. `model.save('my_model.keras')` or `keras.saving.save_model(model, 'my_model.keras')`. \n"
     ]
    },
    {
     "ename": "NameError",
     "evalue": "name 'history_finetune' is not defined",
     "output_type": "error",
     "traceback": [
      "\u001B[31m---------------------------------------------------------------------------\u001B[39m",
      "\u001B[31mNameError\u001B[39m                                 Traceback (most recent call last)",
      "\u001B[36mCell\u001B[39m\u001B[36m \u001B[39m\u001B[32mIn[20]\u001B[39m\u001B[32m, line 11\u001B[39m\n\u001B[32m      9\u001B[39m model.save(\u001B[33m\"\u001B[39m\u001B[33mmodel3_ft.h5\u001B[39m\u001B[33m\"\u001B[39m)\n\u001B[32m     10\u001B[39m \u001B[38;5;28;01mwith\u001B[39;00m \u001B[38;5;28mopen\u001B[39m(\u001B[33m\"\u001B[39m\u001B[33mhistory3_finetuned.pkl\u001B[39m\u001B[33m\"\u001B[39m, \u001B[33m\"\u001B[39m\u001B[33mwb\u001B[39m\u001B[33m\"\u001B[39m) \u001B[38;5;28;01mas\u001B[39;00m f:\n\u001B[32m---> \u001B[39m\u001B[32m11\u001B[39m     pickle.dump(\u001B[43mhistory_finetune\u001B[49m.history, f)\n\u001B[32m     13\u001B[39m \u001B[38;5;28mprint\u001B[39m(\u001B[33m\"\u001B[39m\u001B[33m✅ Fine-tuning complete. Model and history saved.\u001B[39m\u001B[33m\"\u001B[39m)\n",
      "\u001B[31mNameError\u001B[39m: name 'history_finetune' is not defined"
     ]
    }
   ],
   "source": [
    "epochs = 30\n",
    "history_ft = model.fit(\n",
    "    training_set,\n",
    "    validation_data=test_set,\n",
    "    epochs=epochs,\n",
    "    callbacks=[early_stop, reduce_lr]\n",
    ")\n",
    "\n",
    "model.save(\"model3_ft.h5\")\n",
    "with open(\"history3_finetuned.pkl\", \"wb\") as f:\n",
    "    pickle.dump(history_ft.history, f)\n",
    "\n",
    "print(\"✅ Fine-tuning complete. Model and history saved.\")"
   ]
  },
  {
   "cell_type": "code",
   "execution_count": 21,
   "id": "918146b4-7be0-4d96-9b07-105304639a5c",
   "metadata": {},
   "outputs": [
    {
     "name": "stdout",
     "output_type": "stream",
     "text": [
      "\u001B[1m94/94\u001B[0m \u001B[32m━━━━━━━━━━━━━━━━━━━━\u001B[0m\u001B[37m\u001B[0m \u001B[1m20s\u001B[0m 207ms/step - accuracy: 0.9577 - loss: 0.1282\n",
      "\n",
      "🔹 Test Accuracy after initial training: 97.23%\n"
     ]
    }
   ],
   "source": [
    "test_loss, test_accuracy = model.evaluate(test_set)\n",
    "print(f\"\\n🔹 Test Accuracy after initial training: {test_accuracy * 100:.2f}%\")"
   ]
  },
  {
   "cell_type": "code",
   "id": "5580c6ee-1268-4364-898d-97e01804ba20",
   "metadata": {
    "ExecuteTime": {
     "end_time": "2025-04-08T10:41:46.701704Z",
     "start_time": "2025-04-08T10:41:46.347517Z"
    }
   },
   "source": [
    "from keras.api.models import load_model\n",
    "from keras_preprocessing import image\n",
    "import numpy as np\n",
    "model = load_model('model3_ft.h5')\n",
    "\n",
    "# Load and Predict a Single Image\n",
    "test_image = image.load_img('/sdp/test/img_14.png', target_size=(150, 150))\n",
    "test_image = image.img_to_array(test_image)\n",
    "test_image = np.expand_dims(test_image, axis=0)\n",
    "test_image = test_image / 255.0\n",
    "\n",
    "result = model.predict(test_image)\n",
    "class_index = np.argmax(result[0])\n",
    "class_labels = {0: 'cat', 1: 'dog', 2: 'human'}\n",
    "prediction = class_labels[class_index]\n",
    "\n",
    "print(f\"\\n🟢 Prediction: {prediction}\")"
   ],
   "outputs": [
    {
     "name": "stderr",
     "output_type": "stream",
     "text": [
      "WARNING:absl:Compiled the loaded model, but the compiled metrics have yet to be built. `model.compile_metrics` will be empty until you train or evaluate the model.\n"
     ]
    },
    {
     "name": "stdout",
     "output_type": "stream",
     "text": [
      "\u001B[1m1/1\u001B[0m \u001B[32m━━━━━━━━━━━━━━━━━━━━\u001B[0m\u001B[37m\u001B[0m \u001B[1m0s\u001B[0m 172ms/step\n",
      "\n",
      "🟢 Prediction: dog\n"
     ]
    }
   ],
   "execution_count": 11
  },
  {
   "cell_type": "code",
   "id": "2509d32e-c53a-4c62-9ebb-6f9eddfc737c",
   "metadata": {
    "jupyter": {
     "is_executing": true
    },
    "ExecuteTime": {
     "start_time": "2025-04-08T10:43:55.799194Z"
    }
   },
   "source": [
    "from keras.api.models import load_model\n",
    "from keras_preprocessing.image import ImageDataGenerator\n",
    "\n",
    "loaded_model = load_model('model3_ft.h5')\n",
    "\n",
    "test_datagen = ImageDataGenerator(rescale=1.0 / 255.0)\n",
    "\n",
    "test_generator = test_datagen.flow_from_directory(\n",
    "     r\"/sdp/redd/test\",\n",
    "    target_size=(150, 150),\n",
    "    batch_size=32,\n",
    "    class_mode='categorical',\n",
    "    shuffle=False\n",
    ")\n",
    "\n",
    "# Evaluate the model\n",
    "loss, accuracy = loaded_model.evaluate(test_generator)\n",
    "\n",
    "print(f\"Accuracy: {accuracy * 100:.2f}%\")\n",
    "print(f\"Loss: {loss:.4f}\")\n",
    "\n",
    "import numpy as np\n",
    "from sklearn.metrics import classification_report\n",
    "\n",
    "y_true = test_generator.classes\n",
    "\n",
    "y_pred_probs = loaded_model.predict(test_generator)\n",
    "y_pred = np.argmax(y_pred_probs, axis=1)\n",
    "\n",
    "class_labels = list(test_generator.class_indices.keys())\n",
    "\n",
    "print(classification_report(y_true, y_pred, target_names=class_labels))"
   ],
   "outputs": [
    {
     "name": "stderr",
     "output_type": "stream",
     "text": [
      "WARNING:absl:Compiled the loaded model, but the compiled metrics have yet to be built. `model.compile_metrics` will be empty until you train or evaluate the model.\n"
     ]
    },
    {
     "name": "stdout",
     "output_type": "stream",
     "text": [
      "Found 3000 images belonging to 3 classes.\n"
     ]
    },
    {
     "name": "stderr",
     "output_type": "stream",
     "text": [
      "D:\\sdp\\.venv\\Lib\\site-packages\\keras\\src\\trainers\\data_adapters\\py_dataset_adapter.py:121: UserWarning: Your `PyDataset` class should call `super().__init__(**kwargs)` in its constructor. `**kwargs` can include `workers`, `use_multiprocessing`, `max_queue_size`. Do not pass these arguments to `fit()`, as they will be ignored.\n",
      "  self._warn_if_super_not_called()\n"
     ]
    },
    {
     "name": "stdout",
     "output_type": "stream",
     "text": [
      "\u001B[1m18/94\u001B[0m \u001B[32m━━━\u001B[0m\u001B[37m━━━━━━━━━━━━━━━━━\u001B[0m \u001B[1m1:33\u001B[0m 1s/step - accuracy: 0.9495 - loss: 0.1737"
     ]
    }
   ],
   "execution_count": null
  }
 ],
 "metadata": {
  "kernelspec": {
   "display_name": "Python 3 (ipykernel)",
   "language": "python",
   "name": "python3"
  },
  "language_info": {
   "codemirror_mode": {
    "name": "ipython",
    "version": 3
   },
   "file_extension": ".py",
   "mimetype": "text/x-python",
   "name": "python",
   "nbconvert_exporter": "python",
   "pygments_lexer": "ipython3",
   "version": "3.11.0rc1"
  }
 },
 "nbformat": 4,
 "nbformat_minor": 5
}
