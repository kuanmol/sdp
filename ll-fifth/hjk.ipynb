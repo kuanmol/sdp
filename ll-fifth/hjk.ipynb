{
 "cells": [
  {
   "cell_type": "code",
   "id": "7fa054a6d3a1ee70",
   "metadata": {
    "ExecuteTime": {
     "end_time": "2025-03-15T11:16:09.898062Z",
     "start_time": "2025-03-15T11:15:34.155484Z"
    }
   },
   "source": [
    "import torch\n",
    "import torch.nn as nn\n",
    "import torch.optim as optim\n",
    "from torch.utils.data import DataLoader\n",
    "from torchvision import datasets, transforms, models\n",
    "from sklearn.metrics import accuracy_score\n",
    "\n",
    "# Check if CUDA is available\n",
    "device = torch.device(\"cuda\" if torch.cuda.is_available() else \"cpu\")\n",
    "print(f\"Using device: {device}\")\n",
    "\n",
    "# Define transformations for the dataset\n",
    "transform = transforms.Compose([\n",
    "    transforms.Resize((224, 224)),  # Resize images to 224x224\n",
    "    transforms.ToTensor(),          # Convert images to PyTorch tensors\n",
    "    transforms.Normalize(mean=[0.485, 0.456, 0.406], std=[0.229, 0.224, 0.225])  # Normalize with ImageNet stats\n",
    "])\n",
    "\n",
    "# Load the dataset\n",
    "train_dataset = datasets.ImageFolder(root='D:\\sdp\\ll-first\\dataset\\training', transform=transform)\n",
    "test_dataset = datasets.ImageFolder(root='D:\\sdp\\ll-first\\dataset\\testing', transform=transform)\n",
    "\n",
    "# Create data loaders\n",
    "train_loader = DataLoader(train_dataset, batch_size=32, shuffle=True)\n",
    "test_loader = DataLoader(test_dataset, batch_size=32, shuffle=False)\n",
    "\n",
    "# Define the custom model\n",
    "class CustomVGG16(nn.Module):\n",
    "    def __init__(self, num_classes=3):\n",
    "        super(CustomVGG16, self).__init__()\n",
    "        vgg16 = models.vgg16(pretrained=True)\n",
    "        self.features = vgg16.features\n",
    "        self.avgpool = nn.AdaptiveAvgPool2d((7, 7))\n",
    "        self.classifier = nn.Sequential(\n",
    "            nn.Linear(512 * 7 * 7, 4096),\n",
    "            nn.ReLU(inplace=True),\n",
    "            nn.Dropout(0.5),\n",
    "            nn.Linear(4096, 1024),\n",
    "            nn.ReLU(inplace=True),\n",
    "            nn.Dropout(0.5),\n",
    "            nn.Linear(1024, num_classes)\n",
    "        )\n",
    "\n",
    "    def forward(self, x):\n",
    "        x = self.features(x)\n",
    "        x = self.avgpool(x)\n",
    "        x = torch.flatten(x, 1)\n",
    "        x = self.classifier(x)\n",
    "        return x\n",
    "\n",
    "# Instantiate the model\n",
    "model = CustomVGG16(num_classes=3).to(device)\n",
    "\n",
    "# Define loss function and optimizer\n",
    "criterion = nn.CrossEntropyLoss()\n",
    "optimizer = optim.Adam(model.classifier.parameters(), lr=0.001)\n",
    "\n",
    "# Training loop\n",
    "def train(model, train_loader, criterion, optimizer, epochs=10):\n",
    "    model.train()\n",
    "    for epoch in range(epochs):\n",
    "        running_loss = 0.0\n",
    "        for images, labels in train_loader:\n",
    "            images, labels = images.to(device), labels.to(device)\n",
    "\n",
    "            # Zero the parameter gradients\n",
    "            optimizer.zero_grad()\n",
    "\n",
    "            # Forward pass\n",
    "            outputs = model(images)\n",
    "            loss = criterion(outputs, labels)\n",
    "\n",
    "            # Backward pass and optimize\n",
    "            loss.backward()\n",
    "            optimizer.step()\n",
    "\n",
    "            running_loss += loss.item()\n",
    "\n",
    "        print(f\"Epoch [{epoch+1}/{epochs}], Loss: {running_loss/len(train_loader):.4f}\")\n",
    "\n",
    "# Testing loop\n",
    "def test(model, test_loader):\n",
    "    model.eval()\n",
    "    all_preds = []\n",
    "    all_labels = []\n",
    "    with torch.no_grad():\n",
    "        for images, labels in test_loader:\n",
    "            images, labels = images.to(device), labels.to(device)\n",
    "            outputs = model(images)\n",
    "            _, preds = torch.max(outputs, 1)\n",
    "            all_preds.extend(preds.cpu().numpy())\n",
    "            all_labels.extend(labels.cpu().numpy())\n",
    "\n",
    "    accuracy = accuracy_score(all_labels, all_preds)\n",
    "    print(f\"Test Accuracy: {accuracy * 100:.2f}%\")\n",
    "\n",
    "# Train the model\n",
    "train(model, train_loader, criterion, optimizer, epochs=10)\n",
    "\n",
    "# Test the model\n",
    "test(model, test_loader)"
   ],
   "outputs": [
    {
     "name": "stderr",
     "output_type": "stream",
     "text": [
      "<>:20: SyntaxWarning: invalid escape sequence '\\s'\n",
      "<>:21: SyntaxWarning: invalid escape sequence '\\s'\n",
      "<>:20: SyntaxWarning: invalid escape sequence '\\s'\n",
      "<>:21: SyntaxWarning: invalid escape sequence '\\s'\n",
      "C:\\Users\\anmol\\AppData\\Local\\Temp\\ipykernel_21456\\3279755217.py:20: SyntaxWarning: invalid escape sequence '\\s'\n",
      "  train_dataset = datasets.ImageFolder(root='D:\\sdp\\ll-first\\dataset\\training', transform=transform)\n",
      "C:\\Users\\anmol\\AppData\\Local\\Temp\\ipykernel_21456\\3279755217.py:21: SyntaxWarning: invalid escape sequence '\\s'\n",
      "  test_dataset = datasets.ImageFolder(root='D:\\sdp\\ll-first\\dataset\\testing', transform=transform)\n"
     ]
    },
    {
     "name": "stdout",
     "output_type": "stream",
     "text": [
      "Using device: cuda\n"
     ]
    },
    {
     "name": "stderr",
     "output_type": "stream",
     "text": [
      "C:\\Users\\anmol\\AppData\\Local\\Temp\\ipykernel_21456\\3279755217.py:20: SyntaxWarning: invalid escape sequence '\\s'\n",
      "  train_dataset = datasets.ImageFolder(root='D:\\sdp\\ll-first\\dataset\\training', transform=transform)\n",
      "C:\\Users\\anmol\\AppData\\Local\\Temp\\ipykernel_21456\\3279755217.py:21: SyntaxWarning: invalid escape sequence '\\s'\n",
      "  test_dataset = datasets.ImageFolder(root='D:\\sdp\\ll-first\\dataset\\testing', transform=transform)\n"
     ]
    },
    {
     "ename": "OSError",
     "evalue": "[WinError 123] The filename, directory name, or volume label syntax is incorrect: 'D:\\\\sdp\\\\ll-first\\\\dataset\\training'",
     "output_type": "error",
     "traceback": [
      "\u001B[31m---------------------------------------------------------------------------\u001B[39m",
      "\u001B[31mOSError\u001B[39m                                   Traceback (most recent call last)",
      "\u001B[36mCell\u001B[39m\u001B[36m \u001B[39m\u001B[32mIn[1]\u001B[39m\u001B[32m, line 20\u001B[39m\n\u001B[32m     13\u001B[39m transform = transforms.Compose([\n\u001B[32m     14\u001B[39m     transforms.Resize((\u001B[32m224\u001B[39m, \u001B[32m224\u001B[39m)),  \u001B[38;5;66;03m# Resize images to 224x224\u001B[39;00m\n\u001B[32m     15\u001B[39m     transforms.ToTensor(),          \u001B[38;5;66;03m# Convert images to PyTorch tensors\u001B[39;00m\n\u001B[32m     16\u001B[39m     transforms.Normalize(mean=[\u001B[32m0.485\u001B[39m, \u001B[32m0.456\u001B[39m, \u001B[32m0.406\u001B[39m], std=[\u001B[32m0.229\u001B[39m, \u001B[32m0.224\u001B[39m, \u001B[32m0.225\u001B[39m])  \u001B[38;5;66;03m# Normalize with ImageNet stats\u001B[39;00m\n\u001B[32m     17\u001B[39m ])\n\u001B[32m     19\u001B[39m \u001B[38;5;66;03m# Load the dataset\u001B[39;00m\n\u001B[32m---> \u001B[39m\u001B[32m20\u001B[39m train_dataset = \u001B[43mdatasets\u001B[49m\u001B[43m.\u001B[49m\u001B[43mImageFolder\u001B[49m\u001B[43m(\u001B[49m\u001B[43mroot\u001B[49m\u001B[43m=\u001B[49m\u001B[33;43m'\u001B[39;49m\u001B[33;43mD:\u001B[39;49m\u001B[33;43m\\\u001B[39;49m\u001B[33;43msdp\u001B[39;49m\u001B[33;43m\\\u001B[39;49m\u001B[33;43mll-first\u001B[39;49m\u001B[33;43m\\\u001B[39;49m\u001B[33;43mdataset\u001B[39;49m\u001B[38;5;130;43;01m\\t\u001B[39;49;00m\u001B[33;43mraining\u001B[39;49m\u001B[33;43m'\u001B[39;49m\u001B[43m,\u001B[49m\u001B[43m \u001B[49m\u001B[43mtransform\u001B[49m\u001B[43m=\u001B[49m\u001B[43mtransform\u001B[49m\u001B[43m)\u001B[49m\n\u001B[32m     21\u001B[39m test_dataset = datasets.ImageFolder(root=\u001B[33m'\u001B[39m\u001B[33mD:\u001B[39m\u001B[33m\\\u001B[39m\u001B[33msdp\u001B[39m\u001B[33m\\\u001B[39m\u001B[33mll-first\u001B[39m\u001B[33m\\\u001B[39m\u001B[33mdataset\u001B[39m\u001B[38;5;130;01m\\t\u001B[39;00m\u001B[33mesting\u001B[39m\u001B[33m'\u001B[39m, transform=transform)\n\u001B[32m     23\u001B[39m \u001B[38;5;66;03m# Create data loaders\u001B[39;00m\n",
      "\u001B[36mFile \u001B[39m\u001B[32mD:\\sdp\\.venv\\Lib\\site-packages\\torchvision\\datasets\\folder.py:328\u001B[39m, in \u001B[36mImageFolder.__init__\u001B[39m\u001B[34m(self, root, transform, target_transform, loader, is_valid_file, allow_empty)\u001B[39m\n\u001B[32m    319\u001B[39m \u001B[38;5;28;01mdef\u001B[39;00m\u001B[38;5;250m \u001B[39m\u001B[34m__init__\u001B[39m(\n\u001B[32m    320\u001B[39m     \u001B[38;5;28mself\u001B[39m,\n\u001B[32m    321\u001B[39m     root: Union[\u001B[38;5;28mstr\u001B[39m, Path],\n\u001B[32m   (...)\u001B[39m\u001B[32m    326\u001B[39m     allow_empty: \u001B[38;5;28mbool\u001B[39m = \u001B[38;5;28;01mFalse\u001B[39;00m,\n\u001B[32m    327\u001B[39m ):\n\u001B[32m--> \u001B[39m\u001B[32m328\u001B[39m     \u001B[38;5;28;43msuper\u001B[39;49m\u001B[43m(\u001B[49m\u001B[43m)\u001B[49m\u001B[43m.\u001B[49m\u001B[34;43m__init__\u001B[39;49m\u001B[43m(\u001B[49m\n\u001B[32m    329\u001B[39m \u001B[43m        \u001B[49m\u001B[43mroot\u001B[49m\u001B[43m,\u001B[49m\n\u001B[32m    330\u001B[39m \u001B[43m        \u001B[49m\u001B[43mloader\u001B[49m\u001B[43m,\u001B[49m\n\u001B[32m    331\u001B[39m \u001B[43m        \u001B[49m\u001B[43mIMG_EXTENSIONS\u001B[49m\u001B[43m \u001B[49m\u001B[38;5;28;43;01mif\u001B[39;49;00m\u001B[43m \u001B[49m\u001B[43mis_valid_file\u001B[49m\u001B[43m \u001B[49m\u001B[38;5;129;43;01mis\u001B[39;49;00m\u001B[43m \u001B[49m\u001B[38;5;28;43;01mNone\u001B[39;49;00m\u001B[43m \u001B[49m\u001B[38;5;28;43;01melse\u001B[39;49;00m\u001B[43m \u001B[49m\u001B[38;5;28;43;01mNone\u001B[39;49;00m\u001B[43m,\u001B[49m\n\u001B[32m    332\u001B[39m \u001B[43m        \u001B[49m\u001B[43mtransform\u001B[49m\u001B[43m=\u001B[49m\u001B[43mtransform\u001B[49m\u001B[43m,\u001B[49m\n\u001B[32m    333\u001B[39m \u001B[43m        \u001B[49m\u001B[43mtarget_transform\u001B[49m\u001B[43m=\u001B[49m\u001B[43mtarget_transform\u001B[49m\u001B[43m,\u001B[49m\n\u001B[32m    334\u001B[39m \u001B[43m        \u001B[49m\u001B[43mis_valid_file\u001B[49m\u001B[43m=\u001B[49m\u001B[43mis_valid_file\u001B[49m\u001B[43m,\u001B[49m\n\u001B[32m    335\u001B[39m \u001B[43m        \u001B[49m\u001B[43mallow_empty\u001B[49m\u001B[43m=\u001B[49m\u001B[43mallow_empty\u001B[49m\u001B[43m,\u001B[49m\n\u001B[32m    336\u001B[39m \u001B[43m    \u001B[49m\u001B[43m)\u001B[49m\n\u001B[32m    337\u001B[39m     \u001B[38;5;28mself\u001B[39m.imgs = \u001B[38;5;28mself\u001B[39m.samples\n",
      "\u001B[36mFile \u001B[39m\u001B[32mD:\\sdp\\.venv\\Lib\\site-packages\\torchvision\\datasets\\folder.py:149\u001B[39m, in \u001B[36mDatasetFolder.__init__\u001B[39m\u001B[34m(self, root, loader, extensions, transform, target_transform, is_valid_file, allow_empty)\u001B[39m\n\u001B[32m    138\u001B[39m \u001B[38;5;28;01mdef\u001B[39;00m\u001B[38;5;250m \u001B[39m\u001B[34m__init__\u001B[39m(\n\u001B[32m    139\u001B[39m     \u001B[38;5;28mself\u001B[39m,\n\u001B[32m    140\u001B[39m     root: Union[\u001B[38;5;28mstr\u001B[39m, Path],\n\u001B[32m   (...)\u001B[39m\u001B[32m    146\u001B[39m     allow_empty: \u001B[38;5;28mbool\u001B[39m = \u001B[38;5;28;01mFalse\u001B[39;00m,\n\u001B[32m    147\u001B[39m ) -> \u001B[38;5;28;01mNone\u001B[39;00m:\n\u001B[32m    148\u001B[39m     \u001B[38;5;28msuper\u001B[39m().\u001B[34m__init__\u001B[39m(root, transform=transform, target_transform=target_transform)\n\u001B[32m--> \u001B[39m\u001B[32m149\u001B[39m     classes, class_to_idx = \u001B[38;5;28;43mself\u001B[39;49m\u001B[43m.\u001B[49m\u001B[43mfind_classes\u001B[49m\u001B[43m(\u001B[49m\u001B[38;5;28;43mself\u001B[39;49m\u001B[43m.\u001B[49m\u001B[43mroot\u001B[49m\u001B[43m)\u001B[49m\n\u001B[32m    150\u001B[39m     samples = \u001B[38;5;28mself\u001B[39m.make_dataset(\n\u001B[32m    151\u001B[39m         \u001B[38;5;28mself\u001B[39m.root,\n\u001B[32m    152\u001B[39m         class_to_idx=class_to_idx,\n\u001B[32m   (...)\u001B[39m\u001B[32m    155\u001B[39m         allow_empty=allow_empty,\n\u001B[32m    156\u001B[39m     )\n\u001B[32m    158\u001B[39m     \u001B[38;5;28mself\u001B[39m.loader = loader\n",
      "\u001B[36mFile \u001B[39m\u001B[32mD:\\sdp\\.venv\\Lib\\site-packages\\torchvision\\datasets\\folder.py:234\u001B[39m, in \u001B[36mDatasetFolder.find_classes\u001B[39m\u001B[34m(self, directory)\u001B[39m\n\u001B[32m    207\u001B[39m \u001B[38;5;28;01mdef\u001B[39;00m\u001B[38;5;250m \u001B[39m\u001B[34mfind_classes\u001B[39m(\u001B[38;5;28mself\u001B[39m, directory: Union[\u001B[38;5;28mstr\u001B[39m, Path]) -> Tuple[List[\u001B[38;5;28mstr\u001B[39m], Dict[\u001B[38;5;28mstr\u001B[39m, \u001B[38;5;28mint\u001B[39m]]:\n\u001B[32m    208\u001B[39m \u001B[38;5;250m    \u001B[39m\u001B[33;03m\"\"\"Find the class folders in a dataset structured as follows::\u001B[39;00m\n\u001B[32m    209\u001B[39m \n\u001B[32m    210\u001B[39m \u001B[33;03m        directory/\u001B[39;00m\n\u001B[32m   (...)\u001B[39m\u001B[32m    232\u001B[39m \u001B[33;03m        (Tuple[List[str], Dict[str, int]]): List of all classes and dictionary mapping each class to an index.\u001B[39;00m\n\u001B[32m    233\u001B[39m \u001B[33;03m    \"\"\"\u001B[39;00m\n\u001B[32m--> \u001B[39m\u001B[32m234\u001B[39m     \u001B[38;5;28;01mreturn\u001B[39;00m \u001B[43mfind_classes\u001B[49m\u001B[43m(\u001B[49m\u001B[43mdirectory\u001B[49m\u001B[43m)\u001B[49m\n",
      "\u001B[36mFile \u001B[39m\u001B[32mD:\\sdp\\.venv\\Lib\\site-packages\\torchvision\\datasets\\folder.py:41\u001B[39m, in \u001B[36mfind_classes\u001B[39m\u001B[34m(directory)\u001B[39m\n\u001B[32m     36\u001B[39m \u001B[38;5;28;01mdef\u001B[39;00m\u001B[38;5;250m \u001B[39m\u001B[34mfind_classes\u001B[39m(directory: Union[\u001B[38;5;28mstr\u001B[39m, Path]) -> Tuple[List[\u001B[38;5;28mstr\u001B[39m], Dict[\u001B[38;5;28mstr\u001B[39m, \u001B[38;5;28mint\u001B[39m]]:\n\u001B[32m     37\u001B[39m \u001B[38;5;250m    \u001B[39m\u001B[33;03m\"\"\"Finds the class folders in a dataset.\u001B[39;00m\n\u001B[32m     38\u001B[39m \n\u001B[32m     39\u001B[39m \u001B[33;03m    See :class:`DatasetFolder` for details.\u001B[39;00m\n\u001B[32m     40\u001B[39m \u001B[33;03m    \"\"\"\u001B[39;00m\n\u001B[32m---> \u001B[39m\u001B[32m41\u001B[39m     classes = \u001B[38;5;28msorted\u001B[39m(entry.name \u001B[38;5;28;01mfor\u001B[39;00m entry \u001B[38;5;129;01min\u001B[39;00m \u001B[43mos\u001B[49m\u001B[43m.\u001B[49m\u001B[43mscandir\u001B[49m\u001B[43m(\u001B[49m\u001B[43mdirectory\u001B[49m\u001B[43m)\u001B[49m \u001B[38;5;28;01mif\u001B[39;00m entry.is_dir())\n\u001B[32m     42\u001B[39m     \u001B[38;5;28;01mif\u001B[39;00m \u001B[38;5;129;01mnot\u001B[39;00m classes:\n\u001B[32m     43\u001B[39m         \u001B[38;5;28;01mraise\u001B[39;00m \u001B[38;5;167;01mFileNotFoundError\u001B[39;00m(\u001B[33mf\u001B[39m\u001B[33m\"\u001B[39m\u001B[33mCouldn\u001B[39m\u001B[33m'\u001B[39m\u001B[33mt find any class folder in \u001B[39m\u001B[38;5;132;01m{\u001B[39;00mdirectory\u001B[38;5;132;01m}\u001B[39;00m\u001B[33m.\u001B[39m\u001B[33m\"\u001B[39m)\n",
      "\u001B[31mOSError\u001B[39m: [WinError 123] The filename, directory name, or volume label syntax is incorrect: 'D:\\\\sdp\\\\ll-first\\\\dataset\\training'"
     ]
    }
   ],
   "execution_count": 1
  }
 ],
 "metadata": {
  "kernelspec": {
   "display_name": "Python 3",
   "language": "python",
   "name": "python3"
  },
  "language_info": {
   "codemirror_mode": {
    "name": "ipython",
    "version": 2
   },
   "file_extension": ".py",
   "mimetype": "text/x-python",
   "name": "python",
   "nbconvert_exporter": "python",
   "pygments_lexer": "ipython2",
   "version": "2.7.6"
  }
 },
 "nbformat": 4,
 "nbformat_minor": 5
}
